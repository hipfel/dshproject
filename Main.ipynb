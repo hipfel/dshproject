{
 "cells": [
  {
   "cell_type": "markdown",
   "id": "65b62b04-58dd-4614-a40b-9ddc89cb9dee",
   "metadata": {
    "tags": []
   },
   "source": [
    "# Overview\n",
    "This Project focuses on the air conditioning of a greenhouse during a hot, humid and sunny summer day while the sun is in the zenith. On one hand, air handling with traditional cooling and dehumidification is considered. On the other hand, dehumidification by absorption with a salt solution is evaluated and compared to the traditional process.\n",
    "\n",
    "Nowadays professional greenhouses are highly developed technical facilities. As plants need sunlight for photosynthesis, the concept of installing a glass shell is the only building characteristic that persisted. In a mild climate like switzerland, greenhouses need to be heated for most of the year. For saving heat energy, double glazing has become state of the art in greenhouse construction. However, the better insulated glass increases problems with high humidity and temperature inside the greenhouse during summertime. Because of better heat insulation, water vapor cannot condensate fast enough on the windows to reduce air humidity. In addition, the indoor temperature rises to higher values.\n",
    "\n",
    "To cope these problems, different techniques can be applied:\n",
    "\n",
    "- Traditional cooling and dehumidification: Blinds are closed to reduce solar heat gains and windows are opened on the roof to transport humidity out of the greenhouse. This is a cost-effecive way of supporting the HVAC system, which has to compenste for the residual energy needed to cool and dehumidify the supply air during a humid summerday. Unfortunately with the increased air infiltration, heat gains increase too.\n",
    "- Absorption dehumidification: As humidity can be fully controlled under low energy consumption by a salt solution, there is no need for opening windows. This greatly reduces ventilation losses as well as latent heat gains from infiltration air. Some air is still exchanged to control the carbon dioxide levels in the greenhouse. Blinds on the roof are closed to reduce solar heat gains.\n",
    "\n",
    "\n",
    "In general, plants grow optimally with a relative air humidity of 60-70 % and temperatures around 20-28 °C (some exceptions exist). With relative humidity over 85% and temperatures over 32 °C, most plants stop growing ([ki-portal.de](https://www.ki-portal.de/wp-content/uploads/featured_image/9cf64eb0ec2.pdf)). \n",
    "\n",
    "\n",
    "\n",
    "# Calculating thermal building loads for summer\n",
    "\n",
    "## Characterization of the building\n",
    "\n",
    "The loads are as follows:\n",
    "\n",
    "- sensible: $Q_s = UA(\\theta_0 - \\theta_i) + {\\dot{m}}_{inf}c(\\theta_0 - \\theta_i) + \\dot{Q}_{s,aux}$\n",
    "- latent: $Q_l = {\\dot{m}}_{inf}l(w_0 - w_i) + \\dot{Q}_{l,aux}$\n",
    "\n",
    "$\\rightarrow$ Global conductivity through thermal bridges ($\\psi l$) is neglected as the greenhouse is not insulated.\n",
    "\n",
    "The information needed for modeling is:\n",
    "- $UA$ global conductivity through the walls and ceiling [W/K]\n",
    "- ${\\dot{m}}_{inf}$ mass flow of infiltration air [kg/s]\n",
    "- $\\dot{Q}_{s,aux}$ sensible auxiliar heat gains (from sun, emloyees, electrical devices, etc.) [W]\n",
    "- $\\dot{Q}_{l,aux}$ latent auxiliar heat gains (from employees, evaporative processes from plants, etc.) [W]\n",
    "\n",
    "## House description\n",
    "The investigated house is a professional greenhouse in Wangen near the city of Dübendorf. All walls and the ceiling consist of windows that are enclosed in a metal frame. For simplicity, the whole outer building shell is assumed to be glass. During cold periods it is beneficial to lose as less heat as possible, therefore modern professional greenhouses are mostly equipped with double glazig. In this investigation, double glazing is used. As the heat transfer to the ground is negligible in contrast to the transfer trough all glass surfaces, the floor is assumed to be an perfect thermal isolator. The first picture shows the front view. As it can be seen, there are two main doors for entering the greenhouse.<br><br>\n",
    "Front view of greenhouse:\n",
    "<div>\n",
    "    <img src=\"./Figures/Greenhouse_Front.png\" width = 800>\n",
    "</div>\n",
    "    \n",
    "The following pictures show the side and top view of the greenhouse. Openable windows are installed on the roof (bold rectangles). On a hot, sunny summerday the temperature in the greenhouse would rise to levels which are hindering plant growth or even damaging them. Therefore they typically stay open during such times to reduce humidity while simultaneously reducing the cooling load of the HVAC system. For the investigation all marked windows are completely open and provide the desired air change.<br><br>\n",
    "Side view of greenhouse:\n",
    "<div>\n",
    "    <img src=\"./Figures/Greenhouse_Side.png\" width = 990>\n",
    "</div><br><br>\n",
    "Top view of greenhouse:\n",
    "<div>\n",
    "    <img src=\"./Figures/Greenhouse_Top.png\" width = 1000>\n",
    "</div><br><br>\n",
    "\n",
    "The plants are grown on so called plant tables to provide healthier work conditions for emloyees. The area used to calculate latent plant heat load is assumed to be the total plant table surface.<br><br>\n",
    "Top view of inside with plant tables\n",
    "<div>\n",
    "    <img src=\"./Figures/Greenhouse_PlantTables.png\" width = 1000>\n",
    "</div>\n",
    "<br>\n",
    "<br>\n",
    "    \n",
    "    \n",
    "    \n",
    "All assumptions and definitions summarized:\n",
    "\n",
    "- Metal frames of the windows are neglected. The building outer shell is assumed to be 100% glass\n",
    "- Thermal bridges are neglected as the greenhouse isn't isolated\n",
    "- Double glazing for windows\n",
    "- Concrete floor is a perfect thermal isolator\n",
    "- All marked windows are completely open to assure the desired air change\n",
    "- Surface for plant latent heat gains is equal to the total plant table surface"
   ]
  },
  {
   "cell_type": "markdown",
   "id": "78c28583-4a19-40e4-bb71-752a8573efdb",
   "metadata": {
    "tags": []
   },
   "source": [
    "## Data\n",
    "<!-- **Characteristics of the building components**\n",
    "\n",
    "*Glass facade and ceiling*\n",
    "- $s_g = 0.01 ~\\mathrm{{m}}$ width\n",
    "- $\\lambda_g = 0.8 ~\\mathrm{{W/mK}}$ conductivity\n",
    "- $\\rho_g = 2500~\\mathrm{{kg/m^{3}}}$ density\n",
    "- $c_{p,g} = 720 ~\\mathrm{{J/kgK}}$ specific heat\n",
    "\n",
    "*Concrete floor*\n",
    "- $s_c = 0.2 ~\\mathrm{{m}}$  width\n",
    "- $\\lambda_c = 2.1 ~\\mathrm{{W/mK}}$ conductivity\n",
    "- $\\rho_c = 2400~\\mathrm{{kg/m^{3}}}$ density\n",
    "- $c_{p,c} = 1000 ~\\mathrm{{J/kgK}}$ specific heat -->\n",
    "\n",
    "**Geographical Data**\n",
    "- $z= 448.1 ~\\mathrm{m}$ altitude ([climate.onebuilding.org](https://climate.onebuilding.org/WMO_Region_6_Europe/CHE_Switzerland/index.html))\n",
    "\n",
    "**Glass**\n",
    "\n",
    "- $U_g=1.3~\\mathrm{W/m^2K}$ (Limit value according to [norm 380/1 of swiss society of engineers and architects SIA](http://www.webnorm.ch/null/null/380-1_2009_d/D/Product))\n",
    "\n",
    "**Convection coefficients**\n",
    "\n",
    "<!-- - $h_i=8~\\mathrm{W/m^2K}$ indoor \n",
    "- $h_o=25~\\mathrm{W/m^2K}$ outdoor  -->\n",
    "As the U-Value of glass is known and the floor is assumed to be a perfect thermal isolator, no convection coefficients are needed for calculation.\n",
    "\n",
    "**Occupants**\n",
    "\n",
    "- $n_p=5$ number of employees working in the greenhouse\n",
    "- $q_{s,p}=85~\\mathrm{W}$ sensible heat per person, light to sustained activity @ 25°C ([energieplus-lesite.be](https://energieplus-lesite.be/theories/bilan-thermique44/charges-thermiques-internes-pour-les-commerces/))\n",
    "- $q_{l,p}=100~\\mathrm{W}$ latent heat per person, light to sustained activity @ 25°C ([energieplus-lesite.be](https://energieplus-lesite.be/theories/bilan-thermique44/charges-thermiques-internes-pour-les-commerces/))\n",
    "- $\\dot{m}_{v,p}=145~\\mathrm{g/h}$ vapor mass flow per person, light to sustained activity @ 25°C ([energieplus-lesite.be](https://energieplus-lesite.be/theories/bilan-thermique44/charges-thermiques-internes-pour-les-commerces/))\n",
    "\n",
    "\n",
    "**Heat gains**\n",
    "\n",
    "- $p_{e}=20~\\mathrm{W/m^2}$ gains by electrical devices in greenhouse (fans, control systems) ([BSRIA rules of thumb](https://www.bsria.com/uk/product/Nn55Nn/rules_of_thumb_4th_edition_superseded_bg_142003_a15d25e1/))\n",
    "- $p_{sol}= \\dot q_{sol} \\cdot \\tau_{sol} = 1000~\\mathrm{W/m^2}\\cdot 0.1 = 100~\\mathrm{W/m^2}$ solar gains (per glass area, windows with closed white blinds) ([James Dunlop: Photovoltaic systems](https://www.worldcat.org/title/photovoltaic-systems/oclc/828685287))\n",
    "- $p_{p}=183~\\mathrm{W/m^2}$ transpiration rate of plants on a sunny day ([Institute of Agricultural Engineering, Wageningen](https://edepot.wur.nl/202121))\n",
    "\n",
    "$\\rightarrow$ In the transpiration rate the water input from irrigation is included. Modern greenhouses own a direct watering system, which waters plants near their roots. Plants only use 0.5-3 % of absorbed water for growth and metabolism. The remaining 97-99.5 % is used to transport nutrients and for leaf temperature control, which is later on evaporated trough the leaves.\n",
    "\n",
    "**Air leackage**\n",
    "\n",
    "- $n_{50}=1.62$ air changes per hour at 50 Pa\n",
    "- $ACH=n_{50}/n=1.62/23=0.07$ air changes per hour at 4 Pa [->](https://unmethours.com/question/26477/how-to-set-air-infiltration-under-50-pa-pressure/)"
   ]
  },
  {
   "cell_type": "markdown",
   "id": "4d6b1003-6518-4a4a-99bc-34875fd51f7d",
   "metadata": {},
   "source": [
    "## Define Outdoor and Indoor conditions\n",
    "A hot, humid, sunny summer day can have varying outdoor temperature and humidity, furthermore the desired indoor conditions depend on the grown plants.\n",
    "In the following widget those parameters can be changed, limited by the boundary conditions of the analysed case.\n",
    "\n",
    "Some conditions for vegetables ([ki-portal.de](https://www.ki-portal.de/wp-content/uploads/featured_image/9cf64eb0ec2.pdf)):\n",
    "- Lettuce: $\\phi_i$ = 60-80 %\n",
    "- Tomato: $\\theta_i$ = 20-22 °C, $\\phi_i$ = 50-80 %\n",
    "- Cucumber: $\\theta_i$ = 18-20 °C, $\\phi_i$ = 75 % (April-August)\n",
    "- Bell pepper: $\\theta_i$ = 22-28 °C, $\\phi_i$ = 70 %"
   ]
  },
  {
   "cell_type": "code",
   "execution_count": 1,
   "id": "00cb3380-524f-44db-acb7-9a03424e5ff8",
   "metadata": {},
   "outputs": [
    {
     "data": {
      "application/vnd.jupyter.widget-view+json": {
       "model_id": "17bae79248df4b19b67aebcdced217f2",
       "version_major": 2,
       "version_minor": 0
      },
      "text/plain": [
       "interactive(children=(FloatSlider(value=30.0, description='θ0', max=40.0, min=30.0, step=0.5), FloatSlider(val…"
      ]
     },
     "metadata": {},
     "output_type": "display_data"
    }
   ],
   "source": [
    "import ipywidgets as wd\n",
    "import numpy as np\n",
    "import psychro as psy\n",
    "from sumloadcalc import summerloadcalc\n",
    "\n",
    "wid = wd.interactive(summerloadcalc, θ0=(30,40,0.5), φ0=(0.6,1,0.01), θi=(18,26,0.5), φi=(0.5,0.7,0.01)); # interactive-widget for additional accessing of input values and output variables\n",
    "display(wid)                    # display widget"
   ]
  },
  {
   "cell_type": "code",
   "execution_count": 2,
   "id": "f30182c8-36ec-4b4e-a0d9-49852a499e1e",
   "metadata": {},
   "outputs": [
    {
     "name": "stdout",
     "output_type": "stream",
     "text": [
      "Saved input parameters: {'θ0': 30.0, 'φ0': 0.8, 'θi': 23.0, 'φi': 0.6}\n"
     ]
    }
   ],
   "source": [
    "sumloadinp = wid.kwargs         # save input arguments of widget in variable\n",
    "print('Saved input parameters:', sumloadinp)"
   ]
  },
  {
   "cell_type": "markdown",
   "id": "8c120516-04f4-418b-9a93-a597a0a2c746",
   "metadata": {
    "tags": []
   },
   "source": [
    "##  Calculation\n",
    "\n",
    "**1. Sensible heat transfer through the envelope**\n",
    "\n",
    "*1.1. Global conductivities of the surface elements*\n",
    "\n",
    "- $U_w~\\mathrm{[W/m^2K}]$ walls\n",
    "- $U_c~\\mathrm{[W/m^2K}]$ ceiling\n",
    "- $U_f~\\mathrm{[W/m^2K}]$ floor\n",
    "\n",
    "*1.2 Surfaces to be used for heat transfer through the building envelope and plant latent heat gians*\n",
    "\n",
    "- $S_{w}~\\mathrm{[m^2]}$ walls\n",
    "- $S_{c}~\\mathrm{[m^2]}$ ceiling\n",
    "- $S_{f}~\\mathrm{[m^2]}$ floor\n",
    "- $S_{pt}~\\mathrm{[m^2]}$ plant tables\n",
    "\n",
    "**2. Infiltration air**\n",
    "- $\\dot{m}_{inf}~\\mathrm{[kg/s]}$ mass flow rate of inflitration air\n",
    "\n",
    "**3. Sensible and latent auxiliary loads of the thermal zone**\n",
    "- ${\\dot{Q}_{s, aux}}~\\mathrm{[W]}$ sensible load of the thermal zone\n",
    "- ${\\dot{Q}_{l, aux}}~\\mathrm{[W]}$ latent load of the thermal zone"
   ]
  },
  {
   "cell_type": "markdown",
   "id": "3295be2e-e744-4836-ab79-e0bdfc1839e1",
   "metadata": {},
   "source": [
    "### Global conductivities of surface elements\n",
    "\n",
    "The heat transfer coefficient for the glass walls and ceiling is already given by $U_g=1.3~\\mathrm{W/m^2K}$.\\\n",
    "The concrete floor is assumed to be a perfect thermal isolator, which yields $U_f=0~\\mathrm{W/m^2K}$\n"
   ]
  },
  {
   "cell_type": "code",
   "execution_count": 3,
   "id": "bd9c365a-7247-4c53-b791-06592f96e341",
   "metadata": {},
   "outputs": [
    {
     "name": "stdout",
     "output_type": "stream",
     "text": [
      "Uw =   1.30 W/m2 K, glass walls\n",
      "Uc =   1.30 W/m2 K, glass ceiling\n",
      "Uf =   0.00 W/m2 K, concrete floor\n"
     ]
    }
   ],
   "source": [
    "import numpy as np\n",
    "\n",
    "Uw = 1.3 # (W/m2K)\n",
    "Uc = 1.3 # (W/m2K)\n",
    "Uf = 0.0 # (W/m2K)\n",
    "\n",
    "# Print results\n",
    "print('Uw =  % 5.2f W/m2 K, glass walls' % Uw)\n",
    "print('Uc =  % 5.2f W/m2 K, glass ceiling' % Uc)\n",
    "print('Uf =  % 5.2f W/m2 K, concrete floor' % Uf)"
   ]
  },
  {
   "cell_type": "markdown",
   "id": "1709c26d-a492-4ec0-ae54-d32f45404296",
   "metadata": {},
   "source": [
    "### Surfaces\n",
    "Calculating the surfaces of: \n",
    "- $S_{w}~\\mathrm{[m^2]}$ walls\n",
    "- $S_{c}~\\mathrm{[m^2]}$ ceiling\n",
    "- $S_{f}~\\mathrm{[m^2]}$ floor\n",
    "- $S_{pt}~\\mathrm{[m^2]}$ plant tables\n",
    "\n",
    "to be used for heat transfer through the building envelope and plant latent heat load."
   ]
  },
  {
   "cell_type": "code",
   "execution_count": 4,
   "id": "9f9552a8-e8cf-4485-bb01-fda5a8eebc68",
   "metadata": {},
   "outputs": [
    {
     "name": "stdout",
     "output_type": "stream",
     "text": [
      "Sw =    375 m2, glass walls\n",
      "Sc =    646 m2, glass ceiling\n",
      "Sf =    600 m2, concrete floor\n",
      "Spt =   315 m2, plant tables\n"
     ]
    }
   ],
   "source": [
    "Sw = 3*40*2 + (3*7.5 + 3*15)*2   # Wall area: two side walls + two front walls (m2)\n",
    "Sc = 8.08*40*2                   # Ceiling area: two ceiling sides (m2)\n",
    "Sf = 40*15                       # Floor area (m2)\n",
    "Spt = 1.5*7*30                   # Plant tables: 30 plant tables (m2)\n",
    "\n",
    "# Print results\n",
    "print('Sw =  % 5.0f m2, glass walls' % Sw)\n",
    "print('Sc =  % 5.0f m2, glass ceiling' % Sc)\n",
    "print('Sf =  % 5.0f m2, concrete floor' % Sf)\n",
    "print('Spt = % 5.0f m2, plant tables' % Spt)"
   ]
  },
  {
   "cell_type": "markdown",
   "id": "91bb5037-8ca9-4428-b214-1250d78cf567",
   "metadata": {},
   "source": [
    "### Building Characteristics"
   ]
  },
  {
   "cell_type": "code",
   "execution_count": 5,
   "id": "b0042b24-dccb-425c-9274-15bdf40e5361",
   "metadata": {},
   "outputs": [
    {
     "name": "stdout",
     "output_type": "stream",
     "text": [
      "UA =  1327.8 W/K, overall heat transfer coefficient\n"
     ]
    }
   ],
   "source": [
    "# Overall heat transfer coeffcient\n",
    "UA = (Uw*Sw + Uc*Sc + Uf*Sf)   # (W/K)\n",
    "print(f'UA =  {UA:5.1f} W/K, overall heat transfer coefficient')"
   ]
  },
  {
   "cell_type": "code",
   "execution_count": 6,
   "id": "62797916-7995-4f3c-8b86-2f63256a0d5f",
   "metadata": {},
   "outputs": [
    {
     "name": "stdout",
     "output_type": "stream",
     "text": [
      "minf =  0.061785 kg/s, air infiltration\n",
      "Qsaux = 72425 W (72.4 kW), sensible auxiliary heat, both processes\n",
      "Qlaux = 58147 W (58.1 kW), latent auxiliary heat. both processes\n"
     ]
    }
   ],
   "source": [
    "# Infiltration mass flow rate\n",
    "Vz = Sf*3 + 3*7.5*40    # zone volume consisting of volume enclosed in lower \"glass cube\" and upper \"roof prism\" (m3)\n",
    "n50 = 1.62              # infiltration rate at 50 Pa\n",
    "ACH = n50/23            # infiltration rate corrected for normal wind pressure\n",
    "vo = 0.855              # specific volume of dry air @25 °C and 1 bar according to VDI heat atlas [1] (m3/kg)\n",
    "minf = (ACH*Vz)/(vo*3600)   # outdoor dry air mass flow rate, cooling and dehumidification process (kg/s)\n",
    "print(f'minf =  {minf:7.6f} kg/s, air infiltration')\n",
    "\n",
    "# Auxilairy sensible heat\n",
    "pe = 20                     # gains by electrical devices (W/m2)\n",
    "psol = 100                  # solar gains (W/m2)\n",
    "Ssol = Sf                   # assumed that sun is at zenith, we take the floor area as effective glass area for solar gains calculation\n",
    "np = 5                      # number of employees working in greenhouse\n",
    "qsp = 85                    # sensible heat per employee\n",
    "l_v = 2495.0e3              # specific latent heat of water vapor (J/kg)\n",
    "Qsaux = pe*Sf + psol*Ssol + np*qsp    # calculation of sensible auxiliary heat (W)\n",
    "print(f'Qsaux = {Qsaux:0.0f} W ({Qsaux/1000:0.1f} kW), sensible auxiliary heat, both processes')\n",
    "\n",
    "# Auxiliary latent heat\n",
    "pp = 183                             # plant transpiration (W/m2)\n",
    "mvp = 145e-3/3600                    # vapor mass flow per person (kg/s)\n",
    "Qlaux = np*mvp*l_v + pp*Spt          # calculate latent auxiliary heat (W)\n",
    "print(f'Qlaux = {Qlaux:0.0f} W ({Qlaux/1000:0.1f} kW), latent auxiliary heat. both processes')\n"
   ]
  },
  {
   "cell_type": "markdown",
   "id": "fa5c4d2e-ac62-4e09-b2c3-9bbb153de6b4",
   "metadata": {
    "tags": []
   },
   "source": [
    "## Results and summary for summer Load\n",
    "\n",
    "According to the defined parameters for indoor and outdoor air, the calculated results are summarized here.\n",
    "- $Q_s = UA(\\theta_0 - \\theta_I) + {\\dot{m}}_{inf}c(\\theta_0 - \\theta_I) + \\dot{Q}_{s,aux}$ sensible heat load (W)\n",
    "- $Q_l = {\\dot{m}}_{inf}l(w_0 - w_I) + \\dot{Q}_{l,aux}$ latent heat load (W)\n",
    "- $UA$ overall conductivity through the walls and ceiling (W/K)\n",
    "- ${\\dot{m}}_{inf}$ mass flow of infiltration air (kg/s)\n",
    "- $\\dot{Q}_{s,aux}$ sensible auxiliar heat gains (from occupants, electrical devices, etc.) (W)\n",
    "- $\\dot{Q}_{l,aux}$ latent auxiliar heat gains (from occupants, evaporative processes like cooking, etc.) (W)"
   ]
  },
  {
   "cell_type": "code",
   "execution_count": 7,
   "id": "e97e7de5-2132-48d1-8450-5116d781882d",
   "metadata": {
    "tags": []
   },
   "outputs": [
    {
     "name": "stdout",
     "output_type": "stream",
     "text": [
      "Results Overview:\n",
      "\n",
      "θ0  =   30.0 °C,         outdoor temperature\n",
      "φ0  =   0.80 ,           outdoor relative humidity\n",
      "w0  =   0.0228 kg/kgda,  outdoor humidity ratio\n",
      "θi  =   23.0 °C,         indoor temperature\n",
      "φi  =   0.60 ,           indoor relative humidity\n",
      "wi  =   0.0111 kg/kgda,  indoor humidity ratio\n",
      "\n",
      "Uw  =   1.3 W/m2 K, glass walls\n",
      "Uc  =   1.3 W/m2 K, glass ceiling\n",
      "Uf  =   0.0 W/m2 K, concrete floor\n",
      "\n",
      "Sw  =   375 m2, glass walls\n",
      "Sc  =   646 m2, glass ceiling\n",
      "Sf  =   600 m2, concrete floor\n",
      "Spt =   315 m2, plant tables\n",
      "\n",
      "minf  =  0.06178 kg/s, air infiltration mass flow\n",
      "UA    =  1327.8 W/K, overall heat transfer coefficient\n",
      "Qsaux =  72425 W (72.4 kW), sensible auxiliary heat laod\n",
      "Qlaux =  58147 W (58.147 kW), latent auxiliary heat load\n",
      "\n",
      "Qs   =  82155 W (82.2 kW), sensible heat load\n",
      "Ql   =  59949 W (59.9 kW), latent heat load\n"
     ]
    }
   ],
   "source": [
    "c = 1006 # heat capacity of air @ 20°C and 1 bar according to VDI heat atlas [1](J/kgK)\n",
    "z = 448.1                   # altitude (m)\n",
    "\n",
    "θ0 = sumloadinp['θ0']       # get θ0 from widget input\n",
    "φ0 = sumloadinp['φ0']       # get φ0 from widget input\n",
    "w0 = psy.w(θ0,φ0,z)         # calculate humidity ratio w0  (kg/kgda)\n",
    "\n",
    "θi = sumloadinp['θi']       # get θi from widget input\n",
    "φi = sumloadinp['φi']       # get φi from widget input\n",
    "wi = psy.w(θi,φi,z)         # calculate humidity ratio wi  (kg/kgda)\n",
    "\n",
    "\n",
    "\n",
    "Qs = UA*(θ0-θi) + minf*c*(θ0-θi) + Qsaux  # Sensible heat load, cooling and dehumidification\n",
    "Ql = minf*l_v*(w0-wi) + Qlaux             # Latent heat load, cooling and dehumidification\n",
    "\n",
    "\n",
    "# Print results\n",
    "print('Results Overview:')\n",
    "print('')\n",
    "print('θ0  =  % 0.1f °C,         outdoor temperature' % θ0)\n",
    "print('φ0  =  % 0.2f ,           outdoor relative humidity' % φ0)\n",
    "print('w0  =  % 0.4f kg/kgda,  outdoor humidity ratio' % w0)\n",
    "print('θi  =  % 0.1f °C,         indoor temperature' % θi)\n",
    "print('φi  =  % 0.2f ,           indoor relative humidity' % φi)\n",
    "print('wi  =  % 0.4f kg/kgda,  indoor humidity ratio' % wi)\n",
    "print('')\n",
    "print('Uw  =  % 0.1f W/m2 K, glass walls' % Uw)\n",
    "print('Uc  =  % 0.1f W/m2 K, glass ceiling' % Uc)\n",
    "print('Uf  =  % 0.1f W/m2 K, concrete floor' % Uf)\n",
    "print('')\n",
    "print('Sw  =  % 0.0f m2, glass walls' % Sw)\n",
    "print('Sc  =  % 0.0f m2, glass ceiling' % Sc)\n",
    "print('Sf  =  % 0.0f m2, concrete floor' % Sf)\n",
    "print('Spt =  % 0.0f m2, plant tables' % Spt)\n",
    "print('')\n",
    "print(f'minf  =  {minf:0.5f} kg/s, air infiltration mass flow')\n",
    "print(f'UA    =  {UA:5.1f} W/K, overall heat transfer coefficient')\n",
    "print(f'Qsaux =  {Qsaux:5.0f} W ({Qsaux/1000:0.1f} kW), sensible auxiliary heat laod')\n",
    "print(f'Qlaux =  {Qlaux:5.0f} W ({Qlaux/1000:0.3f} kW), latent auxiliary heat load')\n",
    "print('')\n",
    "print(f'Qs   =  {Qs:5.0f} W ({Qs/1000:0.1f} kW), sensible heat load')\n",
    "print(f'Ql   =  {Ql:5.0f} W ({Ql/1000:0.1f} kW), latent heat load')"
   ]
  },
  {
   "cell_type": "markdown",
   "id": "f3bdb3f7-5ad0-4c89-bb94-a520052dc1fd",
   "metadata": {},
   "source": [
    "# Air conditioning by cooling with dehumidification and reheating"
   ]
  },
  {
   "cell_type": "markdown",
   "id": "d50a16fb-9893-4f32-8aed-a296df236f50",
   "metadata": {
    "tags": []
   },
   "source": [
    "# Comparison to absorption dehumidification with adiabatic humidification\n",
    "In this chapter, the promising technology of absorption dehumidification with adiabatic humidification is presented.<br>\n",
    "Following is a simplified scheme of absorption dehumidification with adiabatic humidification:\n",
    "<div>\n",
    "    <img src=\"./Figures/Absorber.png\" width = 990>\n",
    "</div><br><br>\n",
    "The following steps describe the process:\n",
    "<ol>\n",
    "  <li>Humid air (from the greenhouse) is fed into a packed column.</li>\n",
    "  <li>In the packed column humid air gets in contact with a hygroscopic salt solution, which trickles down the column. During contact of both streams, water from the humid air is absorbed into the salt solution and the latter is therefore diluted. The air is dried to a lower humidity than needed in the greenhouse.</li>\n",
    "   <li>In a last step, the air is humidified again with water sprays. During this step, the feed water evaporates and cools the air down to the desired temperature. The conditioned air is blown into the greenhouse again.</li>\n",
    "</ol>\n",
    "\n",
    "For reusability, the diluted salt solution undergoes a regeneration process: The solution is heated to 70 °C, where water evaporates and a concentrated solution is available again. This is a simplified case for the summer dehumidification mode. In general, the outflowing air humidity is controlled by adjusting the salt solution concentration and the temperature can be controlled by adjusting the salt solution temperature.\n",
    "\n",
    "In this chapter, this process is compared to cooling wirth dehumidification by calcualting the enthalpy differences for acheiveing the desired air properties with both processes. To calculate the enthalpy for each process point, the \"HAPropsSI\" function of the Python package \"CoolProp\" was used. ([coolprop.org](http://www.coolprop.org/coolprop/wrappers/Python/index.html))\n"
   ]
  },
  {
   "cell_type": "markdown",
   "id": "bdb59634-1a3e-4ab2-9cb7-982a47afe654",
   "metadata": {},
   "source": [
    "## Enthalpy diferences for cooling with dehumidification and reheating\n",
    "According to the state of the art, dehumidification of air is done by cooling moist air down to its saturation point where water condensates. Later on, the dehumidified air is reheated and ejected into the thermal zone.<br>\n",
    "The following figure shows the underlying processes:\n",
    "<div>\n",
    "    <img src=\"./Figures/hx_CDH.png\" width = 900>\n",
    "</div>\n",
    "The total change of sensible and latent specific enthalpy can be stated as follows:\n",
    "\n",
    "sensible: $\\Delta h_s = \\Delta h_{s,C} + \\Delta h_{s,DH}+ \\Delta h_{s,RH} = (h_0 - h_1) + (h_{1a} - h_2) + (h_i - h_2)$\\\n",
    "latent:  $\\Delta h_l = \\Delta h_{l,DH} = (h_1 - h_{1a})$"
   ]
  },
  {
   "cell_type": "code",
   "execution_count": 12,
   "id": "8ed1ad97-705c-4083-8ce9-5b6a623a3828",
   "metadata": {},
   "outputs": [
    {
     "name": "stdout",
     "output_type": "stream",
     "text": [
      "Cooling with dehumidification and reheating:\n",
      "\n",
      "h0  = 90.47  kJ/kgda, outdoor air enthalpy\n",
      "h1  = 81.12  kJ/kgda, enthalpy point 1\n",
      "h1a = 51.52  kJ/kgda, enthalpy point 1a\n",
      "h2  = 39.01  kJ/kgda, enthalpy point 2\n",
      "hi  = 50.42  kJ/kgda, enthalpy point i\n"
     ]
    }
   ],
   "source": [
    "from CoolProp.HumidAirProp import HAPropsSI # Import humid air calculation package from CoolProp\n",
    "\n",
    "# Values for both processes \n",
    "θ0 = 35               # Outdoor Temperature [°C]\n",
    "φ0 =  0.6             # Outdoor relative humidity [%]\n",
    "θi = 25               # Indoor Temperature [K]\n",
    "φi =  0.5             # Indoor relative humidity [-]\n",
    "z = 0 # <-------------------------------------------------------------------------------------------------------------comment out when finished---------------------------------------------------------------------------------\n",
    "P = 101325*(1 - 2.25577e-5 * z)**5.2559     # Static pressure as function of altitude (P0 = Pi) [Pa]\n",
    "    \n",
    "\n",
    "# Calculation for cooling with dehumidification and reheating\n",
    "\n",
    "h0 = HAPropsSI('H','T',θ0+273.15,'P',P,'R',φ0)        # Calculate outdoor air enthalpy (Point 0) [J/kg]    \n",
    "hi = HAPropsSI('H','T',θi+273.15,'P',P,'R',φi)        # Calculate indoor air enthalpy (Point i) [J/kg]\n",
    "\n",
    "# Calculate enthalpy 1 (at saturation line)\n",
    "dewpT1 = HAPropsSI('Tdp','T',θ0+273.15,'P',P,'R',φ0)  # Dew point temperature [K]\n",
    "h1 = HAPropsSI('H','T',dewpT1,'P',P,'R',1)            # Enthalpy at point 1 [J/kg]\n",
    "\n",
    "# Calculate enthalpy 2 (at saturation line)\n",
    "dewpT2 = HAPropsSI('Tdp','T',θi+273.15,'P',P,'R',φi)  # Dew point temperature [K]\n",
    "h2 = HAPropsSI('H','T',dewpT2,'P',P,'R',1)            # Enthalpy at point 2 [J/kg]\n",
    "\n",
    "# Calculate enthalpy 1a\n",
    "partP1a = HAPropsSI('P_w','T',dewpT2,'P',P,'R',1)     # Calculate partial pressure of water at point 2 [Pa]\n",
    "h1a = HAPropsSI('H','T',dewpT1,'P',P,'P_w',partP1a)   # Enthalpy at point 1a [J/kg]\n",
    "\n",
    "print(f'Cooling with dehumidification and reheating:')\n",
    "print('')\n",
    "print(f'h0  = {h0/1000:0.2f}  kJ/kgda, outdoor air enthalpy')\n",
    "print(f'h1  = {h1/1000:0.2f}  kJ/kgda, enthalpy point 1')\n",
    "print(f'h1a = {h1a/1000:0.2f}  kJ/kgda, enthalpy point 1a')\n",
    "print(f'h2  = {h2/1000:0.2f}  kJ/kgda, enthalpy point 2')\n",
    "print(f'hi  = {hi/1000:0.2f}  kJ/kgda, enthalpy point i')\n",
    "\n",
    "# # uncomment for development and debugging\n",
    "# print('') \n",
    "# print(f'dewpT1  = {dewpT1-273.15:0.1f} °C, dew point temperature point 1')\n",
    "# print(f'dewpT2  = {dewpT2-273.15:0.1f} °C, dew point temperature point 2')   \n",
    "# print(f'partP1a = {partP1a:0.0f} Pa, partial presssure point 1a')\n",
    "\n",
    "\n"
   ]
  },
  {
   "cell_type": "markdown",
   "id": "6c473b56-4b9f-46df-bd29-fef041adef45",
   "metadata": {},
   "source": [
    "### Enthalpy differences"
   ]
  },
  {
   "cell_type": "code",
   "execution_count": 9,
   "id": "1786b498-7f1e-482d-b731-147839fc4f39",
   "metadata": {},
   "outputs": [
    {
     "name": "stdout",
     "output_type": "stream",
     "text": [
      "Δh_s_CDH  = 33.27  kJ/kgda, sensible heat\n",
      "Δh_l_CDH  = 29.60  kJ/kgda, latent heat\n"
     ]
    }
   ],
   "source": [
    "# Enthalpy differences sensible heat\n",
    "Δh_sC  = h0 - h1   # [J/kg]\n",
    "Δh_sDH = h1a - h2  # [J/kg]\n",
    "Δh_sRH = hi - h2   # [J/kg]\n",
    "Δh_s_CDH = Δh_sC + Δh_sDH + Δh_sRH # Total enthalpy difference sensible heat [J/kg]\n",
    "\n",
    "Δh_lDH  = h1 - h1a\n",
    "Δh_l_CDH = Δh_lDH\n",
    "print(f'Δh_s_CDH  = {Δh_s_CDH/1000:0.2f}  kJ/kgda, sensible heat')\n",
    "print(f'Δh_l_CDH  = {Δh_l_CDH/1000:0.2f}  kJ/kgda, latent heat')\n",
    "\n"
   ]
  },
  {
   "cell_type": "markdown",
   "id": "3e76b32b-3c82-4d00-9081-8596dc0eb5de",
   "metadata": {},
   "source": [
    "Following are two h-x-Diagrams showing the cooling and dehumidification process. The following conditions were chosen:\n",
    "\n",
    "- Indoor: $\\theta_i$ = 25 °C, $\\phi_i$ = 50 %\n",
    "- Outdoor: $\\theta_0$ = 35 °C, $\\phi_0$ = 60 %\n",
    "\n",
    "\n",
    "\n",
    "\n",
    "\n",
    "\n",
    "\n",
    "*Absorption dehumidification with adiabatic cooling*\n",
    "\n",
    "sensible specific enthalpy difference: $\\Delta h_s = 0$\\\n",
    "latent   specific enthalpy difference: $\\Delta h_l = \\Delta h_{l,ABS}$\n",
    "<div>\n",
    "    <img src=\"./Figures/hx_ABS.png\" width = 900>\n",
    "</div>"
   ]
  },
  {
   "cell_type": "code",
   "execution_count": 10,
   "id": "7cfe0851-5c4a-4648-9f77-01231667a65c",
   "metadata": {
    "tags": []
   },
   "outputs": [
    {
     "name": "stdout",
     "output_type": "stream",
     "text": [
      "Absorption dehumidification with adiabatic humidification:\n",
      "\n",
      "h0 = 90.47 kJ/kg(dry air), outdoor air enthalpy\n",
      "hi = 50.42 kJ/kg(dry air), indoor air enthalpy\n"
     ]
    }
   ],
   "source": [
    "# Calculation for absorption process\n",
    "h0 = HAPropsSI('H','T',θ0+273.15,'P',P,'R',φ0)        # Calculate outdoor air enthalpy (Point 0) [J/kg]    \n",
    "hi = HAPropsSI('H','T',θi+273.15,'P',P,'R',φi)        # Calculate indoor air enthalpy (Point i) [J/kg]\n",
    "\n",
    "print(f'Absorption dehumidification with adiabatic humidification:')\n",
    "print('')\n",
    "print(f'h0 = {h0/1000:0.2f} kJ/kg(dry air), outdoor air enthalpy')\n",
    "print(f'hi = {hi/1000:0.2f} kJ/kg(dry air), indoor air enthalpy')"
   ]
  },
  {
   "cell_type": "code",
   "execution_count": 11,
   "id": "f993fc64-60d0-427b-8daa-4301d600130a",
   "metadata": {},
   "outputs": [
    {
     "name": "stdout",
     "output_type": "stream",
     "text": [
      "Absorption dehumidification with adiabatic humidification:\n",
      "\n",
      "h0 = 90.47 kJ/kg(dry air), outdoor air enthalpy\n",
      "hi = 50.42 kJ/kg(dry air), indoor air enthalpy\n"
     ]
    }
   ],
   "source": [
    "print(f'Absorption dehumidification with adiabatic humidification:')\n",
    "print('')\n",
    "print(f'h0 = {h0/1000:0.2f} kJ/kg(dry air), outdoor air enthalpy')\n",
    "print(f'hi = {hi/1000:0.2f} kJ/kg(dry air), indoor air enthalpy')\n",
    "\n",
    "\n",
    "\n",
    "\n"
   ]
  },
  {
   "cell_type": "code",
   "execution_count": null,
   "id": "71f9b9e4-487a-40f1-b629-f1e95e8b2be6",
   "metadata": {},
   "outputs": [],
   "source": [
    "\n",
    "\n",
    "\n",
    "\n"
   ]
  },
  {
   "cell_type": "markdown",
   "id": "f059cf64-4f83-4e12-8727-30bd8e3bfd56",
   "metadata": {},
   "source": [
    "# Conclusion and Outlook"
   ]
  },
  {
   "cell_type": "markdown",
   "id": "dd21109e-ab93-418b-872d-685b62e53be3",
   "metadata": {},
   "source": [
    "## Bibliography\n",
    "\n",
    "[1] Verein Deutscher Ingenieure, VDI Wärmeatlas, 11th ed. Berlin, Heidelberg: Springer, 2013."
   ]
  },
  {
   "cell_type": "code",
   "execution_count": null,
   "id": "17d21af5-529d-49aa-87e7-854beaea066b",
   "metadata": {},
   "outputs": [],
   "source": []
  }
 ],
 "metadata": {
  "kernelspec": {
   "display_name": "Python 3",
   "language": "python",
   "name": "python3"
  },
  "language_info": {
   "codemirror_mode": {
    "name": "ipython",
    "version": 3
   },
   "file_extension": ".py",
   "mimetype": "text/x-python",
   "name": "python",
   "nbconvert_exporter": "python",
   "pygments_lexer": "ipython3",
   "version": "3.8.8"
  },
  "toc-autonumbering": true
 },
 "nbformat": 4,
 "nbformat_minor": 5
}

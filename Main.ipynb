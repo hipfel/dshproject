{
 "cells": [
  {
   "cell_type": "markdown",
   "id": "f1e48abd-e7b3-46db-8e67-f0a228b4e02f",
   "metadata": {
    "tags": []
   },
   "source": [
    "# Overview\n",
    "\n",
    "This Project focuses on the air conditioning of a greenhouse during a hot, humid and sunny summer day while the sun is in the zenith. On one hand, air handling with traditional cooling and dehumidification is considered. On the other hand, dehumidification by absorption with a salt solution is evaluated and compared to the traditional process.\n",
    "\n",
    "Nowadays professional greenhouses are highly developed technical facilities. As plants need sunlight for photosynthesis, the concept of installing a glass shell is the only building characteristic that persisted. In a mild climate like switzerland, greenhouses need to be heated for most of the year. For saving heat energy, double glazing has become state of the art in greenhouse construction. However, the better insulated glass increases problems with high humidity and temperature inside the greenhouse during summertime. Because of better heat insulation, water vapor cannot condensate fast enough on the windows to reduce air humidity. In addition, the indoor temperature rises to higher values.\n",
    "\n",
    "To cope these problems, different techniques can be applied:\n",
    "\n",
    "- Traditional cooling and dehumidification: Blinds are closed to reduce solar heat gains and windows are opened on the roof to transport humidity out of the greenhouse. This is a cost-effecive way of supporting the HVAC system, which has to compenste for the residual energy needed to cool and dehumidify the supply air during a humid summerday. Unfortunately with the increased air infiltration, heat gains increase too.\n",
    "- Absorption dehumidification: As humidity can be fully controlled under low energy consumption by a salt solution, there is no need for opening windows. This greatly reduces ventilation losses as well as latent heat gains from infiltration air. Some air is still exchanged to control the carbon dioxide levels in the greenhouse. Blinds on the roof are closed to reduce solar heat gains.\n",
    "\n",
    "In general, plants grow optimally with a relative air humidity of 60-70 % and temperatures around 20-28 °C (some exceptions exist). With relative humidity over 85% and temperatures over 32 °C, most plants stop growing ([ki-portal.de](https://www.ki-portal.de/wp-content/uploads/featured_image/9cf64eb0ec2.pdf)).\n",
    "# Calculating thermal building loads for summer\n",
    "\n",
    "## Characterization of the building\n",
    "\n",
    "The loads are as follows:\n",
    "\n",
    "- sensible: $Q_s = UA(\\theta_0 - \\theta_i) + {\\dot{m}}_{inf}c(\\theta_0 - \\theta_i) + \\dot{Q}_{s,aux}$\n",
    "- latent: $Q_l = {\\dot{m}}_{inf}l(w_0 - w_i) + \\dot{Q}_{l,aux}$\n",
    "\n",
    "$\\rightarrow$ Global conductivity through thermal bridges ($\\psi l$) is neglected as the greenhouse is not insulated.\n",
    "\n",
    "The information needed for modeling is:\n",
    "\n",
    "- $UA$ global conductivity through the walls and ceiling [W/K]\n",
    "- ${\\dot{m}}_{inf}$ mass flow of infiltration air [kg/s]\n",
    "- $\\dot{Q}_{s,aux}$ sensible auxiliar heat gains (from sun, emloyees, electrical devices, etc.) [W]\n",
    "- $\\dot{Q}_{l,aux}$ latent auxiliar heat gains (from employees, evaporative processes from plants, etc.) [W]\n",
    "\n",
    "## House description\n",
    "\n",
    "The investigated house is a professional greenhouse in Wangen near the city of Dübendorf. All walls and the ceiling consist of windows that are enclosed in a metal frame. For simplicity, the whole outer building shell is assumed to be glass. During cold periods it is beneficial to lose as less heat as possible, therefore modern professional greenhouses are mostly equipped with double glazig. In this investigation, double glazing is used. As the heat transfer to the ground is negligible in contrast to the transfer trough all glass surfaces, the floor is assumed to be an perfect thermal isolator. The first picture shows the front view. As it can be seen, there are two main doors for entering the greenhouse.\n",
    "\n",
    "Front view of greenhouse:\n",
    "\n",
    "<img src=\"./Figures/Greenhouse_Front.png\" style=\"width: 800px; background: white;\">\n",
    "\n",
    "The following pictures show the side and top view of the greenhouse. Openable windows are installed on the roof (bold rectangles). On a hot, sunny summerday the temperature in the greenhouse would rise to levels which are hindering plant growth or even damaging them. Therefore, they typically stay open during such times to reduce humidity while simultaneously reducing the cooling load of the HVAC system. For the investigation all marked windows are completely open and provide the desired air change.\n",
    "\n",
    "Side view of greenhouse:\n",
    "\n",
    "<img src=\"./Figures/Greenhouse_Side.png\" style=\"width: 1000px; background: white;\">\n",
    "\n",
    "Top view of greenhouse:\n",
    "\n",
    "<img src=\"./Figures/Greenhouse_Top.png\" style=\"width: 1000px; background: white;\">\n",
    "\n",
    "The plants are grown on so called plant tables to provide healthier work conditions for emloyees. The area used to calculate latent plant heat load is assumed to be the total plant table surface.\n",
    "\n",
    "Top view of inside with plant tables:\n",
    "\n",
    "<img src=\"./Figures/Greenhouse_PlantTables.png\" style=\"width: 1000px; background: white;\">\n",
    "\n",
    "### Assumptions and definitions\n",
    "\n",
    "All assumptions and definitions summarized:\n",
    "\n",
    "- Metal frames of the windows are neglected. The building outer shell is assumed to be 100% glass\n",
    "- Thermal bridges are neglected as the greenhouse isn't isolated\n",
    "- Double glazing for windows\n",
    "- Concrete floor is a perfect thermal isolator\n",
    "- All marked windows are completely open to assure the desired air change\n",
    "- Surface for plant latent heat gains is equal to the total plant table surface\n",
    "\n",
    "## Data\n",
    "\n",
    "<!-- **Characteristics of the building components**\n",
    "\n",
    "*Glass facade and ceiling*\n",
    "\n",
    "- $s_g = 0.01 ~\\mathrm{{m}}$ width\n",
    "- $\\lambda_g = 0.8 ~\\mathrm{{W/mK}}$ conductivity\n",
    "- $\\rho_g = 2500~\\mathrm{{kg/m^{3}}}$ density\n",
    "- $c_{p,g} = 720 ~\\mathrm{{J/kgK}}$ specific heat\n",
    "\n",
    "*Concrete floor*\n",
    "\n",
    "- $s_c = 0.2 ~\\mathrm{{m}}$  width\n",
    "- $\\lambda_c = 2.1 ~\\mathrm{{W/mK}}$ conductivity\n",
    "- $\\rho_c = 2400~\\mathrm{{kg/m^{3}}}$ density\n",
    "- $c_{p,c} = 1000 ~\\mathrm{{J/kgK}}$ specific heat -->\n",
    "\n",
    "**Geographical Data**\n",
    "\n",
    "- $z= 448.1 ~\\mathrm{m}$ altitude ([climate.onebuilding.org](https://climate.onebuilding.org/WMO_Region_6_Europe/CHE_Switzerland/index.html))\n",
    "\n",
    "**Glass**\n",
    "\n",
    "- $U_g=1.3~\\mathrm{W/m^2K}$ (Limit value according to [norm 380/1 of swiss society of engineers and architects SIA](http://www.webnorm.ch/null/null/380-1_2009_d/D/Product))\n",
    "\n",
    "**Convection coefficients**\n",
    "\n",
    "<!-- - $h_i=8~\\mathrm{W/m^2K}$ indoor \n",
    "- $h_o=25~\\mathrm{W/m^2K}$ outdoor  -->\n",
    "\n",
    "As the U-Value of glass is known and the floor is assumed to be a perfect thermal isolator, no convection coefficients are needed for calculation.\n",
    "\n",
    "**Occupants**\n",
    "\n",
    "- $n_p=5$ number of employees working in the greenhouse\n",
    "- $q_{s,p}=85~\\mathrm{W}$ sensible heat per person, light to sustained activity @ 25°C ([energieplus-lesite.be](https://energieplus-lesite.be/theories/bilan-thermique44/charges-thermiques-internes-pour-les-commerces/))\n",
    "- $q_{l,p}=100~\\mathrm{W}$ latent heat per person, light to sustained activity @ 25°C ([energieplus-lesite.be](https://energieplus-lesite.be/theories/bilan-thermique44/charges-thermiques-internes-pour-les-commerces/))\n",
    "- $\\dot{m}_{v,p}=145~\\mathrm{g/h}$ vapor mass flow per person, light to sustained activity @ 25°C ([energieplus-lesite.be](https://energieplus-lesite.be/theories/bilan-thermique44/charges-thermiques-internes-pour-les-commerces/))\n",
    "\n",
    "**Heat gains**\n",
    "\n",
    "- $p_{e}=20~\\mathrm{W/m^2}$ gains by electrical devices in greenhouse (fans, control systems) ([BSRIA rules of thumb](https://www.bsria.com/uk/product/Nn55Nn/rules_of_thumb_4th_edition_superseded_bg_142003_a15d25e1/))\n",
    "- $p_{sol}= \\dot q_{sol} \\cdot \\tau_{sol} = 1000~\\mathrm{W/m^2}\\cdot 0.1 = 100~\\mathrm{W/m^2}$ solar gains (per glass area, windows with closed white blinds) ([James Dunlop: Photovoltaic systems](https://www.worldcat.org/title/photovoltaic-systems/oclc/828685287))\n",
    "- $p_{p}=183~\\mathrm{W/m^2}$ transpiration rate of plants on a sunny day ([Institute of Agricultural Engineering, Wageningen](https://edepot.wur.nl/202121))\n",
    "\n",
    "$\\rightarrow$ In the transpiration rate the water input from irrigation is included. Modern greenhouses have a direct watering system, which waters plants near their roots. Plants only use 0.5-3 % of absorbed water for growth and metabolism. The remaining 97-99.5 % is used to transport nutrients and for leaf temperature control, which is achieved by water evaporation trough the leaves.\n",
    "\n",
    "**Air leackage**\n",
    "\n",
    "- $n_{50}=1.62$ air changes per hour at 50 Pa\n",
    "- $ACH=n_{50}/n=1.62/23=0.07$ air changes per hour at 4 Pa [->](https://unmethours.com/question/26477/how-to-set-air-infiltration-under-50-pa-pressure/)\n",
    "\n",
    "## Define Outdoor and Indoor conditions\n",
    "\n",
    "A hot, humid, sunny summer day can have varying outdoor temperature and humidity values. Furthermore, the desired indoor conditions depend on the grown plants. In the following widget those parameters can be changed, limited by the boundary conditions of the analysed case.\n",
    "\n",
    "Some conditions for vegetables ([ki-portal.de](https://www.ki-portal.de/wp-content/uploads/featured_image/9cf64eb0ec2.pdf)):\n",
    "\n",
    "- Lettuce: $\\varphi_i$ = 60-80 %\n",
    "- Tomato: $\\theta_i$ = 20-22 °C, $\\varphi_i$ = 50-80 %\n",
    "- Cucumber: $\\theta_i$ = 18-20 °C, $\\varphi_i$ = 75 % (April-August)\n",
    "- Bell pepper: $\\theta_i$ = 22-28 °C, $\\varphi_i$ = 70 %"
   ]
  },
  {
   "cell_type": "code",
   "execution_count": 1,
   "id": "00cb3380-524f-44db-acb7-9a03424e5ff8",
   "metadata": {},
   "outputs": [
    {
     "data": {
      "application/vnd.jupyter.widget-view+json": {
       "model_id": "f87a68b914714d5ca69a137dfa0e9071",
       "version_major": 2,
       "version_minor": 0
      },
      "text/plain": [
       "interactive(children=(FloatSlider(value=35.0, description='θ0', max=40.0, min=30.0, step=0.5), FloatSlider(val…"
      ]
     },
     "metadata": {},
     "output_type": "display_data"
    }
   ],
   "source": [
    "import ipywidgets as wd\n",
    "from IPython.display import display\n",
    "import matplotlib.pyplot as plt\n",
    "import numpy as np\n",
    "import psychro as psy\n",
    "from sumloadcalc import summerloadcalc\n",
    "from CoolProp.HumidAirProp import HAPropsSI\n",
    "import cool\n",
    "\n",
    "# interactive-widget for additional accessing of input values and output variables\n",
    "wid = wd.interactive(summerloadcalc, θ0=(30,40,0.5), φ0=(0.6,1,0.01), θi=(18,26,0.5), φi=(0.5,0.7,0.01))\n",
    "display(wid)                    # display widget"
   ]
  },
  {
   "cell_type": "code",
   "execution_count": 2,
   "id": "f30182c8-36ec-4b4e-a0d9-49852a499e1e",
   "metadata": {},
   "outputs": [
    {
     "name": "stdout",
     "output_type": "stream",
     "text": [
      "Saved input parameters: {'θ0': 35.0, 'φ0': 0.6, 'θi': 25.0, 'φi': 0.5}\n"
     ]
    }
   ],
   "source": [
    "sumloadinp = wid.kwargs         # save input arguments of widget in variable\n",
    "print('Saved input parameters:', sumloadinp)"
   ]
  },
  {
   "cell_type": "markdown",
   "id": "3295be2e-e744-4836-ab79-e0bdfc1839e1",
   "metadata": {},
   "source": [
    "##  Calculation\n",
    "\n",
    "**1. Sensible heat transfer through the envelope**\n",
    "\n",
    "*1.1. Global conductivities of the surface elements*\n",
    "\n",
    "- $U_w~\\mathrm{[W/m^2K}]$ walls\n",
    "- $U_c~\\mathrm{[W/m^2K}]$ ceiling\n",
    "- $U_f~\\mathrm{[W/m^2K}]$ floor\n",
    "\n",
    "*1.2 Surfaces to be used for heat transfer through the building envelope and plant latent heat gians*\n",
    "\n",
    "- $S_{w}~\\mathrm{[m^2]}$ walls\n",
    "- $S_{c}~\\mathrm{[m^2]}$ ceiling\n",
    "- $S_{f}~\\mathrm{[m^2]}$ floor\n",
    "- $S_{pt}~\\mathrm{[m^2]}$ plant tables\n",
    "\n",
    "**2. Infiltration air**\n",
    "\n",
    "- $\\dot{m}_{inf}~\\mathrm{[kg/s]}$ mass flow rate of inflitration air\n",
    "\n",
    "**3. Sensible and latent auxiliary loads of the thermal zone**\n",
    "\n",
    "- ${\\dot{Q}_{s, aux}}~\\mathrm{[W]}$ sensible load of the thermal zone\n",
    "- ${\\dot{Q}_{l, aux}}~\\mathrm{[W]}$ latent load of the thermal zone\n",
    "\n",
    "### Global conductivities of surface elements\n",
    "\n",
    "The heat transfer coefficient for the glass walls and ceiling is already given by $U_g=1.3~\\mathrm{W/m^2K}$. The concrete floor is assumed to be a perfect thermal isolator, which yields $U_f=0~\\mathrm{W/m^2K}$"
   ]
  },
  {
   "cell_type": "code",
   "execution_count": 3,
   "id": "bd9c365a-7247-4c53-b791-06592f96e341",
   "metadata": {},
   "outputs": [
    {
     "name": "stdout",
     "output_type": "stream",
     "text": [
      "Uw =   1.30 W/m2 K, glass walls\n",
      "Uc =   1.30 W/m2 K, glass ceiling\n",
      "Uf =   0.00 W/m2 K, concrete floor\n"
     ]
    }
   ],
   "source": [
    "Uw = 1.3 # (W/m2K)\n",
    "Uc = 1.3 # (W/m2K)\n",
    "Uf = 0.0 # (W/m2K)\n",
    "\n",
    "# Print results\n",
    "print('Uw =  % 5.2f W/m2 K, glass walls' % Uw)\n",
    "print('Uc =  % 5.2f W/m2 K, glass ceiling' % Uc)\n",
    "print('Uf =  % 5.2f W/m2 K, concrete floor' % Uf)"
   ]
  },
  {
   "cell_type": "markdown",
   "id": "e3b44b48-f8ab-4506-8dc6-1f2c78cec556",
   "metadata": {},
   "source": [
    "### Surfaces\n",
    "\n",
    "Calculating the surfaces of: \n",
    "\n",
    "- $S_{w}~\\mathrm{[m^2]}$ walls\n",
    "- $S_{c}~\\mathrm{[m^2]}$ ceiling\n",
    "- $S_{f}~\\mathrm{[m^2]}$ floor\n",
    "- $S_{pt}~\\mathrm{[m^2]}$ plant tables\n",
    "\n",
    "to be used for heat transfer through the building envelope and plant latent heat load."
   ]
  },
  {
   "cell_type": "code",
   "execution_count": 4,
   "id": "9f9552a8-e8cf-4485-bb01-fda5a8eebc68",
   "metadata": {},
   "outputs": [
    {
     "name": "stdout",
     "output_type": "stream",
     "text": [
      "Sw =    375 m2, glass walls\n",
      "Sc =    646 m2, glass ceiling\n",
      "Sf =    600 m2, concrete floor\n",
      "Spt =   315 m2, plant tables\n"
     ]
    }
   ],
   "source": [
    "Sw = 3*40*2 + (3*7.5 + 3*15)*2   # Wall area: two side walls + two front walls (m2)\n",
    "Sc = 8.08*40*2                   # Ceiling area: two ceiling sides (m2)\n",
    "Sf = 40*15                       # Floor area (m2)\n",
    "Spt = 1.5*7*30                   # Plant tables: 30 plant tables (m2)\n",
    "\n",
    "# Print results\n",
    "print('Sw =  % 5.0f m2, glass walls' % Sw)\n",
    "print('Sc =  % 5.0f m2, glass ceiling' % Sc)\n",
    "print('Sf =  % 5.0f m2, concrete floor' % Sf)\n",
    "print('Spt = % 5.0f m2, plant tables' % Spt)"
   ]
  },
  {
   "cell_type": "markdown",
   "id": "91bb5037-8ca9-4428-b214-1250d78cf567",
   "metadata": {},
   "source": [
    "### Building characteristics"
   ]
  },
  {
   "cell_type": "code",
   "execution_count": 5,
   "id": "b0042b24-dccb-425c-9274-15bdf40e5361",
   "metadata": {},
   "outputs": [
    {
     "name": "stdout",
     "output_type": "stream",
     "text": [
      "UA =  1327.8 W/K, overall heat transfer coefficient\n"
     ]
    }
   ],
   "source": [
    "# Overall heat transfer coeffcient\n",
    "UA = (Uw*Sw + Uc*Sc + Uf*Sf)   # (W/K)\n",
    "print(f'UA =  {UA:5.1f} W/K, overall heat transfer coefficient')"
   ]
  },
  {
   "cell_type": "code",
   "execution_count": 6,
   "id": "62797916-7995-4f3c-8b86-2f63256a0d5f",
   "metadata": {},
   "outputs": [
    {
     "name": "stdout",
     "output_type": "stream",
     "text": [
      "minf =  0.061785 kg/s, air infiltration\n",
      "Qsaux = 72425 W (72.4 kW), sensible auxiliary heat\n",
      "Qlaux = 58147 W (58.1 kW), latent auxiliary heat\n"
     ]
    }
   ],
   "source": [
    "# Infiltration mass flow rate\n",
    "Vz = Sf*3 + 3*7.5*40    # zone volume consisting of volume enclosed in lower \"glass cube\" and upper \"roof prism\" (m3)\n",
    "n50 = 1.62              # infiltration rate at 50 Pa\n",
    "ACH = n50/23            # infiltration rate corrected for normal wind pressure\n",
    "vo = 0.855              # specific volume of dry air @25 °C and 1 bar according to VDI heat atlas [1] (m3/kg)\n",
    "minf = (ACH*Vz)/(vo*3600)   # infiltration dry air mass flow rate of building (kg/s)\n",
    "print(f'minf =  {minf:7.6f} kg/s, air infiltration')\n",
    "\n",
    "# Auxilairy sensible heat\n",
    "pe = 20                     # gains by electrical devices (W/m2)\n",
    "psol = 100                  # solar gains (W/m2)\n",
    "Ssol = Sf                   # assumed that sun is at zenith, we take the floor area as effective glass area for solar gains calculation\n",
    "np = 5                      # number of employees working in greenhouse\n",
    "qsp = 85                    # sensible heat per employee\n",
    "l_v = 2495.0e3              # specific latent heat of water vapor (J/kg)\n",
    "Qsaux = pe*Sf + psol*Ssol + np*qsp    # calculation of sensible auxiliary heat (W)\n",
    "print(f'Qsaux = {Qsaux:0.0f} W ({Qsaux/1000:0.1f} kW), sensible auxiliary heat')\n",
    "\n",
    "# Auxiliary latent heat\n",
    "pp = 183                             # plant transpiration (W/m2)\n",
    "mvp = 145e-3/3600                    # vapor mass flow per person (kg/s)\n",
    "Qlaux = np*mvp*l_v + pp*Spt          # calculate latent auxiliary heat (W)\n",
    "print(f'Qlaux = {Qlaux:0.0f} W ({Qlaux/1000:0.1f} kW), latent auxiliary heat')"
   ]
  },
  {
   "cell_type": "markdown",
   "id": "fa5c4d2e-ac62-4e09-b2c3-9bbb153de6b4",
   "metadata": {
    "tags": []
   },
   "source": [
    "## Results and summary for summer load\n",
    "\n",
    "According to the defined parameters for indoor and outdoor air, the calculated results are summarized here.\n",
    "\n",
    "- $Q_s = UA(\\theta_0 - \\theta_I) + {\\dot{m}}_{inf}c(\\theta_0 - \\theta_I) + \\dot{Q}_{s,aux}$ sensible heat load (W)\n",
    "- $Q_l = {\\dot{m}}_{inf}l(w_0 - w_I) + \\dot{Q}_{l,aux}$ latent heat load (W)\n",
    "- $UA$ overall conductivity through the walls and ceiling (W/K)\n",
    "- ${\\dot{m}}_{inf}$ mass flow of infiltration air (kg/s)\n",
    "- $\\dot{Q}_{s,aux}$ sensible auxiliar heat gains (from occupants, electrical devices, etc.) (W)\n",
    "- $\\dot{Q}_{l,aux}$ latent auxiliar heat gains (from occupants, evaporative processes like cooking, etc.) (W)"
   ]
  },
  {
   "cell_type": "code",
   "execution_count": 7,
   "id": "e97e7de5-2132-48d1-8450-5116d781882d",
   "metadata": {
    "tags": []
   },
   "outputs": [
    {
     "name": "stdout",
     "output_type": "stream",
     "text": [
      "Results Overview:\n",
      "\n",
      "θ0  =   35.0 °C,         outdoor temperature\n",
      "φ0  =   0.60 ,           outdoor relative humidity\n",
      "w0  =   0.0227 kg/kgda,  outdoor humidity ratio\n",
      "θi  =   25.0 °C,         indoor temperature\n",
      "φi  =   0.50 ,           indoor relative humidity\n",
      "wi  =   0.0104 kg/kgda,  indoor humidity ratio\n",
      "\n",
      "Uw  =   1.3 W/m2 K, glass walls\n",
      "Uc  =   1.3 W/m2 K, glass ceiling\n",
      "Uf  =   0.0 W/m2 K, concrete floor\n",
      "\n",
      "Sw  =   375 m2, glass walls\n",
      "Sc  =   646 m2, glass ceiling\n",
      "Sf  =   600 m2, concrete floor\n",
      "Spt =   315 m2, plant tables\n",
      "\n",
      "minf  =  0.06178 kg/s, air infiltration mass flow\n",
      "UA    =  1327.8 W/K, overall heat transfer coefficient\n",
      "Qsaux =  72425 W (72.4 kW), sensible auxiliary heat laod\n",
      "Qlaux =  58147 W (58.147 kW), latent auxiliary heat load\n",
      "\n",
      "Qs   =  86325 W (86.3 kW), sensible heat load\n",
      "Ql   =  60032 W (60.0 kW), latent heat load\n"
     ]
    }
   ],
   "source": [
    "c = 1006 # heat capacity of air @ 20°C and 1 bar according to VDI heat atlas [1](J/kgK)\n",
    "z = 448.1                   # altitude (m)\n",
    "\n",
    "θ0 = sumloadinp['θ0']       # get θ0 from widget input\n",
    "φ0 = sumloadinp['φ0']       # get φ0 from widget input\n",
    "w0 = psy.w(θ0,φ0,z)         # calculate humidity ratio w0  (kg/kgda)\n",
    "\n",
    "θi = sumloadinp['θi']       # get θi from widget input\n",
    "φi = sumloadinp['φi']       # get φi from widget input\n",
    "wi = psy.w(θi,φi,z)         # calculate humidity ratio wi  (kg/kgda)\n",
    "\n",
    "Qs = UA*(θ0-θi) + minf*c*(θ0-θi) + Qsaux  # Sensible heat load, cooling and dehumidification\n",
    "Ql = minf*l_v*(w0-wi) + Qlaux             # Latent heat load, cooling and dehumidification\n",
    "\n",
    "# Print results\n",
    "print('Results Overview:')\n",
    "print('')\n",
    "print('θ0  =  % 0.1f °C,         outdoor temperature' % θ0)\n",
    "print('φ0  =  % 0.2f ,           outdoor relative humidity' % φ0)\n",
    "print('w0  =  % 0.4f kg/kgda,  outdoor humidity ratio' % w0)\n",
    "print('θi  =  % 0.1f °C,         indoor temperature' % θi)\n",
    "print('φi  =  % 0.2f ,           indoor relative humidity' % φi)\n",
    "print('wi  =  % 0.4f kg/kgda,  indoor humidity ratio' % wi)\n",
    "print('')\n",
    "print('Uw  =  % 0.1f W/m2 K, glass walls' % Uw)\n",
    "print('Uc  =  % 0.1f W/m2 K, glass ceiling' % Uc)\n",
    "print('Uf  =  % 0.1f W/m2 K, concrete floor' % Uf)\n",
    "print('')\n",
    "print('Sw  =  % 0.0f m2, glass walls' % Sw)\n",
    "print('Sc  =  % 0.0f m2, glass ceiling' % Sc)\n",
    "print('Sf  =  % 0.0f m2, concrete floor' % Sf)\n",
    "print('Spt =  % 0.0f m2, plant tables' % Spt)\n",
    "print('')\n",
    "print(f'minf  =  {minf:0.5f} kg/s, air infiltration mass flow')\n",
    "print(f'UA    =  {UA:5.1f} W/K, overall heat transfer coefficient')\n",
    "print(f'Qsaux =  {Qsaux:5.0f} W ({Qsaux/1000:0.1f} kW), sensible auxiliary heat laod')\n",
    "print(f'Qlaux =  {Qlaux:5.0f} W ({Qlaux/1000:0.3f} kW), latent auxiliary heat load')\n",
    "print('')\n",
    "print(f'Qs   =  {Qs:5.0f} W ({Qs/1000:0.1f} kW), sensible heat load')\n",
    "print(f'Ql   =  {Ql:5.0f} W ({Ql/1000:0.1f} kW), latent heat load')"
   ]
  },
  {
   "cell_type": "markdown",
   "id": "f3bdb3f7-5ad0-4c89-bb94-a520052dc1fd",
   "metadata": {
    "tags": []
   },
   "source": [
    "# Air conditioning with cooling and dehumidification\n",
    "\n",
    "Legend (image from \\[2\\]):\n",
    " \n",
    "<img src=\"Figures/legend.png\" alt=\"Legend\" style=\"width: 800px; background: white;\">\n",
    "\n",
    "VAV system controling: indoor temperature, $\\theta_5$, by acting on the cooling coil \\[CC\\], $\\dot{Q}_{tCC}$,  indoor humidity, by acting on the heating coil \\[HC\\], $\\dot{Q}_{s,HC}$, and supply air temperature, $\\theta_4$, by acting on the supply air mass flow rate, $\\dot{m}$. (image from [2])VAV system controling: indoor temperature, $\\theta_5$, by acting on the cooling coil \\[CC\\], $\\dot{Q}_{tCC}$,  indoor humidity, by acting on the heating coil \\[HC\\], $\\dot{Q}_{s,HC}$, and supply air temperature, $\\theta_4$, by acting on the supply air mass flow rate, $\\dot{m}$. (image from \\[2\\])\n",
    "\n",
    "<img src=\"Figures/vav_cooling_reheating.png\" alt=\"VAV with reheating\" style=\"width: 800px; background: white;\"/>"
   ]
  },
  {
   "cell_type": "code",
   "execution_count": 8,
   "id": "57fbec62",
   "metadata": {},
   "outputs": [
    {
     "data": {
      "application/vnd.jupyter.widget-view+json": {
       "model_id": "990c6c771802411297a6f65e841b49a9",
       "version_major": 2,
       "version_minor": 0
      },
      "text/plain": [
       "interactive(children=(FloatSlider(value=14.0, description='θ4', max=24.9, min=14.0), FloatSlider(value=3.3, de…"
      ]
     },
     "metadata": {},
     "output_type": "display_data"
    },
    {
     "data": {
      "text/plain": [
       "<function __main__.cool_dehum_comp(θ4=14.0, ACH_CDH=3.3)>"
      ]
     },
     "execution_count": 8,
     "metadata": {},
     "output_type": "execute_result"
    }
   ],
   "source": [
    "# plot formatting\n",
    "plt.rcParams[\"figure.figsize\"] = (10, 7.7)\n",
    "font = {'size': 14}\n",
    "plt.rc('font', **font)\n",
    "\n",
    "# HVAC system parameters\n",
    "Kθ, Kw = 1e10, 1e10         # Gain factors of the P-controllers\n",
    "β = 0.16                    # By-pass factor of the cooling coil\n",
    "ACH_CDH = 3.3               # air change rate (1/h)\n",
    "mo = (ACH_CDH*Vz)/(vo*3600) # outdoor dry air mass flow rate (kg/s)\n",
    "m = 10                      # initial value for supply air mass flow (kg/s)\n",
    "θ4min = 14.0                # °C, mini supply air temperature\n",
    "θo, φo = θ0, φ0             # °C, -, outdoor air temperature and relative humidity\n",
    "θ5sp, φ5sp = θi, φi         # °C, -, indoor air set points\n",
    "mi = minf                   # kg/s, mass flow rate of building infiltration air\n",
    "QsBL, QlBL = Qsaux, Qlaux   # W, sensible & latent auxiliar heat\n",
    "parameters = m, mo, β, Kθ, Kw\n",
    "inputs = θo, φo, θ5sp, φ5sp, mi, UA, QsBL, QlBL\n",
    "\n",
    "# compute HVAC system\n",
    "cool_dehum = cool.MxCcRhTzBl(parameters, inputs)\n",
    "def cool_dehum_comp(θ4=θ4min, ACH_CDH=ACH_CDH):\n",
    "    mo = (ACH_CDH*Vz)/(vo*3600)     # outdoor dry air mass flow rate (kg/s)\n",
    "    cool_dehum.design[1] = mo\n",
    "    cool_dehum.actual[1] = mo\n",
    "    cool_dehum.VAV_wd(value='θ4', sp=θ4, θo=θo, φo=φo,\n",
    "        θ5sp=θ5sp, φ5sp=φ5sp, mi=mi, UA=UA, QsBL=QsBL, QlBL=QlBL)\n",
    "    QsCC = cool_dehum.x[-5]\n",
    "    QlCC = cool_dehum.x[-4]\n",
    "    QtCC = QsCC + QlCC\n",
    "    QsHC = cool_dehum.x[-3]\n",
    "    Q_tot_CDH = abs(QtCC + QsHC)\n",
    "    print(f'\\nQ_tot_CDH = abs(QtCC + QsHC) = {Q_tot_CDH/1000:0.2f}',\n",
    "        'kW, total heat for cooling and dehumidification')\n",
    "    print('\\n--> Change the values with the sliders. Then klick on the next Jupyter Notebook row and run it to save the parameters.')\n",
    "wd.interact(cool_dehum_comp, θ4=(θ4min, θ5sp - 0.1, 0.1), ACH_CDH=(1, 5, 0.1))"
   ]
  },
  {
   "cell_type": "code",
   "execution_count": 9,
   "id": "d0328c56",
   "metadata": {},
   "outputs": [
    {
     "name": "stdout",
     "output_type": "stream",
     "text": [
      "\n",
      "Q_tot_CDH = abs(QtCC + QsHC) = 258.75 kW, total heat for cooling and dehumidification\n"
     ]
    }
   ],
   "source": [
    "QsCC = cool_dehum.x[-5]\n",
    "QlCC = cool_dehum.x[-4]\n",
    "QtCC = QsCC + QlCC\n",
    "QsHC = cool_dehum.x[-3]\n",
    "Q_tot_CDH = abs(QtCC + QsHC)\n",
    "print(f'\\nQ_tot_CDH = abs(QtCC + QsHC) = {Q_tot_CDH/1000:0.2f}',\n",
    "    'kW, total heat for cooling and dehumidification')"
   ]
  },
  {
   "cell_type": "markdown",
   "id": "d50a16fb-9893-4f32-8aed-a296df236f50",
   "metadata": {},
   "source": [
    "# Comparison to absorption dehumidification with adiabatic humidification\n",
    "\n",
    "In this chapter, the promising technology of absorption dehumidification with adiabatic humidification is presented.\n",
    "\n",
    "Following is a simplified scheme of the process:\n",
    "\n",
    "<img src=\"./Figures/Absorber.png\" style=\"width: 990px; background: white;\">\n",
    "\n",
    "The following steps describe the process:\n",
    "\n",
    "1. Humid air (from the greenhouse) is fed into a packed column.\n",
    "2. In the packed column humid air gets in contact with a hygroscopic salt solution, which trickles down the column. During contact of both streams, water from the humid air is absorbed into the salt solution and the latter is therefore diluted. The air is dried to a lower humidity than needed in the greenhouse.\n",
    "3. In a last step, the air is humidified again with water sprays. During this step, the feed water evaporates and cools the air down to the desired temperature. The conditioned air is blown into the greenhouse again.\n",
    "\n",
    "For reusability, the diluted salt solution undergoes a regeneration process: The solution is heated to 70 °C, where water evaporates and a concentrated solution is available again. This is a simplified case for the summer dehumidification mode. In general, the outflowing air humidity is controlled by adjusting the salt solution concentration and the temperature can be controlled by adjusting the salt solution temperature.\n",
    "\n",
    "In this chapter, this process is compared to cooling wirth dehumidification by calcualting the enthalpy differences for acheiveing the desired air properties with both processes. To calculate the enthalpy for each process point, the \"HAPropsSI\" function of the Python package \"CoolProp\" was used. ([coolprop.org](http://www.coolprop.org/coolprop/wrappers/Python/index.html))\n",
    "\n",
    "## Enthalpy differences for cooling with dehumidification and reheating\n",
    "\n",
    "According to the state of the art, dehumidification of air is done by cooling moist air down to its saturation point where water condensates. Later on, the dehumidified air is reheated and ejected into the thermal zone.<br>\n",
    "The following figure shows the underlying processes for the example conditions $\\theta_0$ = 35 °C, $\\varphi_0$ = 60 %, $\\theta_i$ = 25°C, $\\varphi_i$= 50 %.\n",
    "\n",
    "<img src=\"./Figures/hx_CDH.png\" style=\"width: 900px; background: white;\">\n",
    "\n",
    "The total change of sensible and latent specific enthalpy can be stated as follows:\n",
    "\n",
    "> Sensible: $\\Delta h_s = \\Delta h_{s,C} + \\Delta h_{s,DH}+ \\Delta h_{s,RH} = (h_0 - h_1) + (h_{1a} - h_2) + (h_i - h_2)$<br>\n",
    "Latent:   $\\Delta h_l = \\Delta h_{l,DH} = (h_1 - h_{1a})$\n",
    "\n",
    "In the following calculation, the input values from chapter 2.4 are taken for calculation."
   ]
  },
  {
   "cell_type": "code",
   "execution_count": 10,
   "id": "16e62b4c-61b6-43cf-8cbb-abe8356c8f83",
   "metadata": {},
   "outputs": [
    {
     "name": "stdout",
     "output_type": "stream",
     "text": [
      "Cooling with dehumidification and reheating:\n",
      "\n",
      "h0  = 93.62  kJ/kgda, outdoor air enthalpy\n",
      "h1  = 84.25  kJ/kgda, enthalpy point 1\n",
      "h1a = 52.94  kJ/kgda, enthalpy point 1a\n",
      "h2  = 40.42  kJ/kgda, enthalpy point 2\n",
      "hi  = 51.84  kJ/kgda, enthalpy point i\n"
     ]
    }
   ],
   "source": [
    "P = 101325*(1 - 2.25577e-5 * z)**5.2559               # Static pressure as function of altitude (P0 = Pi) [Pa]\n",
    "\n",
    "# Calculation for cooling with dehumidification and reheating\n",
    "h0 = HAPropsSI('H','T',θ0+273.15,'P',P,'R',φ0)        # Calculate outdoor air enthalpy (Point 0) [J/kg]    \n",
    "hi = HAPropsSI('H','T',θi+273.15,'P',P,'R',φi)        # Calculate indoor air enthalpy (Point i) [J/kg]\n",
    "\n",
    "# Calculate enthalpy 1 (at saturation line)\n",
    "dewpT1 = HAPropsSI('Tdp','T',θ0+273.15,'P',P,'R',φ0)  # Dew point temperature [K]\n",
    "h1 = HAPropsSI('H','T',dewpT1,'P',P,'R',1)            # Enthalpy at point 1 [J/kg]\n",
    "\n",
    "# Calculate enthalpy 2 (at saturation line)\n",
    "dewpT2 = HAPropsSI('Tdp','T',θi+273.15,'P',P,'R',φi)  # Dew point temperature [K]\n",
    "h2 = HAPropsSI('H','T',dewpT2,'P',P,'R',1)            # Enthalpy at point 2 [J/kg]\n",
    "\n",
    "# Calculate enthalpy 1a\n",
    "partP1a = HAPropsSI('P_w','T',dewpT2,'P',P,'R',1)     # Calculate partial pressure of water at point 2 [Pa]\n",
    "h1a = HAPropsSI('H','T',dewpT1,'P',P,'P_w',partP1a)   # Enthalpy at point 1a [J/kg]\n",
    "\n",
    "print(f'Cooling with dehumidification and reheating:')\n",
    "print('')\n",
    "print(f'h0  = {h0/1000:0.2f}  kJ/kgda, outdoor air enthalpy')\n",
    "print(f'h1  = {h1/1000:0.2f}  kJ/kgda, enthalpy point 1')\n",
    "print(f'h1a = {h1a/1000:0.2f}  kJ/kgda, enthalpy point 1a')\n",
    "print(f'h2  = {h2/1000:0.2f}  kJ/kgda, enthalpy point 2')\n",
    "print(f'hi  = {hi/1000:0.2f}  kJ/kgda, enthalpy point i')"
   ]
  },
  {
   "cell_type": "code",
   "execution_count": 11,
   "id": "72cdfd52",
   "metadata": {},
   "outputs": [
    {
     "name": "stdout",
     "output_type": "stream",
     "text": [
      "Cooling with dehumidification and reheating:\n",
      "\n",
      "Δh_s_CDH  = 33.31  kJ/kgda, sensible heat\n",
      "Δh_l_CDH  = 31.31  kJ/kgda, latent heat\n",
      "Δh_tot_CDH  = 64.62  kJ/kgda, total heat\n"
     ]
    }
   ],
   "source": [
    "# Enthalpy differences sensible heat\n",
    "Δh_sC  = h0 - h1   # [J/kg]\n",
    "Δh_sDH = h1a - h2  # [J/kg]\n",
    "Δh_sRH = hi - h2   # [J/kg]\n",
    "Δh_s_CDH = Δh_sC + Δh_sDH + Δh_sRH  # Total enthalpy difference sensible heat [J/kg]\n",
    "\n",
    "Δh_lDH  = h1 - h1a                  # Enthalpy difference latent heat [J/kg]             \n",
    "Δh_l_CDH = Δh_lDH                   # Total enthalpy difference latent heat [J/kg]\n",
    "Δh_tot_CDH = Δh_s_CDH + Δh_l_CDH    # Total enthalpy difference cooling and dehumidification with reheating [J/kg]\n",
    "\n",
    "print(f'Cooling with dehumidification and reheating:')\n",
    "print('')\n",
    "print(f'Δh_s_CDH  = {Δh_s_CDH/1000:0.2f}  kJ/kgda, sensible heat')\n",
    "print(f'Δh_l_CDH  = {Δh_l_CDH/1000:0.2f}  kJ/kgda, latent heat')\n",
    "print(f'Δh_tot_CDH  = {Δh_tot_CDH/1000:0.2f}  kJ/kgda, total heat')"
   ]
  },
  {
   "cell_type": "markdown",
   "id": "f15c1048-f896-4299-b886-fae1bbeb92ba",
   "metadata": {},
   "source": [
    "## Enthalpy differences for absorption dehumidification with adiabatic humidification\n",
    "\n",
    "The analysed operation mode can be seen in Chapter 4. The following figure shows the underlying processes for the example conditions $\\theta_0$ = 35 °C, $\\varphi_0$ = 60 %, $\\theta_i$ = 25°C, $\\varphi_i$= 50 %.\n",
    "\n",
    "<img src=\"./Figures/hx_ABS.png\" style=\"width: 900px; background: white;\">\n",
    "\n",
    "The total change of sensible and latent specific enthalpy can be stated as follows:\n",
    "\n",
    "> Sensible specific enthalpy difference: $\\Delta h_s = 0$<br>\n",
    "Latent   specific enthalpy difference: $\\Delta h_l = \\Delta h_{l,ABS}$<br>\n",
    "$\\rightarrow$ During adiabatic humidification, the air is cooled by converting latent into sensible heat.\n",
    "\n",
    "In the following calculation, the input values from chapter 2.4 are taken for calculation."
   ]
  },
  {
   "cell_type": "code",
   "execution_count": 12,
   "id": "fa6981f6-c530-471e-a336-fbe726dd9f28",
   "metadata": {},
   "outputs": [
    {
     "name": "stdout",
     "output_type": "stream",
     "text": [
      "Absorption dehumidification with adiabatic humidification:\n",
      "\n",
      "h0 = 93.62 kJ/kg(dry air), outdoor air enthalpy\n",
      "h1 = hi = 51.84 kJ/kg(dry air), indoor air enthalpy\n"
     ]
    }
   ],
   "source": [
    "# Calculation for absorption dehumidification with adiabatic humidification\n",
    "h0 = HAPropsSI('H','T',θ0+273.15,'P',P,'R',φ0)             # Calculate outdoor air enthalpy (Point 0) [J/kg]    \n",
    "h1 = hi = HAPropsSI('H','T',θi+273.15,'P',P,'R',φi)        # Calculate indoor air enthalpy (Point i = Point 1) [J/kg]\n",
    "\n",
    "print(f'Absorption dehumidification with adiabatic humidification:')\n",
    "print('')\n",
    "print(f'h0 = {h0/1000:0.2f} kJ/kg(dry air), outdoor air enthalpy')\n",
    "print(f'h1 = hi = {hi/1000:0.2f} kJ/kg(dry air), indoor air enthalpy')"
   ]
  },
  {
   "cell_type": "code",
   "execution_count": 13,
   "id": "e4e7b779-0433-46dd-ad75-19c84c7d8802",
   "metadata": {},
   "outputs": [
    {
     "name": "stdout",
     "output_type": "stream",
     "text": [
      "Absorption dehumidification with adiabatic humidification:\n",
      "\n",
      "Δh_s_ABS  = 0.00  kJ/kgda, sensible heat\n",
      "Δh_l_ABS  = 41.78  kJ/kgda, latent heat\n",
      "Δh_tot_ABS  = 41.78  kJ/kgda, total heat\n"
     ]
    }
   ],
   "source": [
    "# Enthalpy differences sensible heat\n",
    "Δh_s_ABS = 0                          # Total enthalpy difference sensible heat [J/kg]\n",
    "Δh_l_ABS  = h0 - h1                   # Total enthalpy difference latent heat [J/kg]# Enthalpy difference latent heat [J/kg]                           \n",
    "Δh_tot_ABS = Δh_s_ABS + Δh_l_ABS      # Total enthalpy difference cooling and dehumidification with reheating [J/kg]\n",
    "\n",
    "print(f'Absorption dehumidification with adiabatic humidification:')\n",
    "print('')\n",
    "print(f'Δh_s_ABS  = {Δh_s_ABS/1000:0.2f}  kJ/kgda, sensible heat')\n",
    "print(f'Δh_l_ABS  = {Δh_l_ABS/1000:0.2f}  kJ/kgda, latent heat')\n",
    "print(f'Δh_tot_ABS  = {Δh_tot_ABS/1000:0.2f}  kJ/kgda, total heat')"
   ]
  },
  {
   "cell_type": "markdown",
   "id": "1a209adc-273b-49ce-937d-950ced148d05",
   "metadata": {},
   "source": [
    "## Comparison and projection onto model results\n",
    "\n",
    "The basic differences of the processes themselves have been calculated. Now, we can estimate the energy savings by applying the absorption process."
   ]
  },
  {
   "cell_type": "code",
   "execution_count": 14,
   "id": "56ef03ad-2e37-4133-b9d3-83893f78ae67",
   "metadata": {},
   "outputs": [
    {
     "name": "stdout",
     "output_type": "stream",
     "text": [
      "Comparison:\n",
      "\n",
      "Δh_tot_CDH  = 64.62  kJ/kgda, total heat cooling and dehumidifiation with reheating\n",
      "Δh_tot_ABS  = 41.78  kJ/kgda, total heat absorption dehumidification with adiabatic humidification\n",
      "f_saving    = 0.647  kJ/kgda, total heat absorption dehumidification with adiabatic humidification\n",
      "mod_energy_ABS    = 167.291  kW, total heat needed if model input energy was done by absorption process\n",
      "\n",
      "For your case, you could have saved roughly 35.3  % energy by applying the absorption process!\n"
     ]
    }
   ],
   "source": [
    "# Calculate energy savings\n",
    "f_saving = Δh_tot_ABS/Δh_tot_CDH       # Calculate factor of energy saving [-]\n",
    "mod_energy_ABS = Q_tot_CDH*f_saving  # Calculate energy needed factor of energy saving [-]\n",
    "\n",
    "print(f'Comparison:')\n",
    "print('')\n",
    "print(f'Δh_tot_CDH  = {Δh_tot_CDH/1000:0.2f}  kJ/kgda, total heat cooling and dehumidifiation with reheating')\n",
    "print(f'Δh_tot_ABS  = {Δh_tot_ABS/1000:0.2f}  kJ/kgda, total heat absorption dehumidification with adiabatic humidification')\n",
    "print(f'f_saving    = {f_saving:0.3f}  kJ/kgda, total heat absorption dehumidification with adiabatic humidification')\n",
    "print(f'mod_energy_ABS    = {mod_energy_ABS/1000:0.3f}  kW, total heat needed if model input energy was done by absorption process')\n",
    "print('')\n",
    "print(f'For your case, you could have saved roughly {(1-f_saving)*100:0.1f}  % energy by applying the absorption process!')"
   ]
  },
  {
   "cell_type": "markdown",
   "id": "56c865f1-fb64-4111-a612-76ac5c32496a",
   "metadata": {},
   "source": [
    "# Conclusion and Outlook\n",
    "\n",
    "Absorption process notes:\n",
    "\n",
    "- Only enthalpy differences analysed \n",
    "- Heat for regeneration of salt solution is roughly the latent heat needed\n",
    "- Heat for regeneration can be delivered by heat pump $\\rightarrow$ about 3 times less energy input needed\n",
    "- Heat for regeneration can be delivered by waste heat (eg. from waste incinerators)\n",
    "- With absorption process, much less air change is needed in addition\n",
    "   \n",
    "Further work notes:\n",
    "\n",
    "- Make model of absorption process (with regeneration)\n",
    "- Compare the two models\n",
    "- Validate models and building assumptions with measurement data"
   ]
  },
  {
   "cell_type": "markdown",
   "id": "dd21109e-ab93-418b-872d-685b62e53be3",
   "metadata": {},
   "source": [
    "# Bibliography\n",
    "\n",
    "|   |   |\n",
    "|---|---|\n",
    "| \\[1\\] | Verein Deutscher Ingenieure, VDI Wärmeatlas, 11th ed. Berlin, Heidelberg: Springer, 2013 |\n",
    "| \\[2\\] | Ghiaus, C. (2022) Computational psychrometric analysis as a control problem: case of cooling and dehumidification systems, International Journal of Building Performance Simulation, 15(1), pp. 21-38, DOI: [10.1080/19401493.2021.1995498](https://www.tandfonline.com/doi/full/10.1080/19401493.2021.1995498), (open access preprint [hal-03484064](https://hal.archives-ouvertes.fr/hal-03484064/document))"
   ]
  },
  {
   "cell_type": "code",
   "execution_count": null,
   "id": "fa5c47a8-08e7-4f96-92c9-05f09d15ce00",
   "metadata": {},
   "outputs": [],
   "source": []
  }
 ],
 "metadata": {
  "kernelspec": {
   "display_name": "Python 3 (ipykernel)",
   "language": "python",
   "name": "python3"
  },
  "language_info": {
   "codemirror_mode": {
    "name": "ipython",
    "version": 3
   },
   "file_extension": ".py",
   "mimetype": "text/x-python",
   "name": "python",
   "nbconvert_exporter": "python",
   "pygments_lexer": "ipython3",
   "version": "3.8.10"
  },
  "toc-autonumbering": true,
  "vscode": {
   "interpreter": {
    "hash": "1b97d468d52fd931bbfe1b24b2fc5b0ff449082ed2f9e3be5d4d8ef3a518e402"
   }
  }
 },
 "nbformat": 4,
 "nbformat_minor": 5
}

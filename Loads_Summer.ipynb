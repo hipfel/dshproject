{
 "cells": [
  {
   "cell_type": "markdown",
   "id": "65b62b04-58dd-4614-a40b-9ddc89cb9dee",
   "metadata": {
    "tags": []
   },
   "source": [
    "# Calculating thermal loads for summer\n",
    "\n",
    "## Characterization of the building\n",
    "\n",
    "The loads are as follows:\n",
    "\n",
    "- sensible: $Q_s = UA(\\theta_O - \\theta_I) + {\\dot{m}}_{inf}c(\\theta_0 - \\theta_I) + \\dot{Q}_{s,aux}$\n",
    "- latent: $Q_l = {\\dot{m}}_{inf}l(w_0 - w_I) + \\dot{Q}_{l,aux}$\n",
    "\n",
    "--> The global conductivity through thermal bridges ($\\psi l$) are neglected as the greenhouse is not insulated\n",
    "\n",
    "The information needed for modeling is:\n",
    "- $UA$ global conductivity through the walls, [W/K]\n",
    "- ${\\dot{m}}_{inf}$ mass flow of infiltration air, [kg/s]\n",
    "- $\\dot{Q}_{s,aux}$ sensible auxiliar heat gains (from sun, occupants, electrical devices, etc.), [W]\n",
    "- $\\dot{Q}_{l,aux}$ latent auxiliar heat gains (from occupants, evaporative processes like cooking, etc.), [W]\n",
    "\n",
    "## House description\n",
    "The analysed house is a greenhouse in Wangen near Dübendorf.\n",
    "XXXXXXXXXXXXXX\n",
    "XXXXXXXXXXXXXX\n",
    "XXXXXXXXXXXXXX\n",
    "XXXXXXXXXXXXXX\n",
    "XXXXXXXXXXXXXX\n",
    "XXXXXXXXXXXXXX\n",
    "XXXXXXXXXXXXXX\n",
    "XXXXXXXXXXXXXX\n",
    "XXXXXXXXXXXXXX\n",
    "XXXXXXXXXXXXXX\n",
    "XXXXXXXXXXXXXX\n",
    "XXXXXXXXXXXXXX"
   ]
  },
  {
   "cell_type": "markdown",
   "id": "78c28583-4a19-40e4-bb71-752a8573efdb",
   "metadata": {
    "tags": []
   },
   "source": [
    "## Data\n",
    "**Characteristics of the building components**\n",
    "\n",
    "*Glass facade and ceiling*\n",
    "- $s_g = 0.01 ~\\mathrm{{m}}$ width\n",
    "- $\\lambda_g = 0.8 ~\\mathrm{{W/mK}}$ conductivity\n",
    "- $\\rho_g = 2500~\\mathrm{{kg/m^{3}}}$ density\n",
    "- $c_{p,g} = 720 ~\\mathrm{{J/kgK}}$ specific heat\n",
    "\n",
    "*Concrete floor*\n",
    "- $s_c = 0.2 ~\\mathrm{{m}}$  width\n",
    "- $\\lambda_c = 2.1 ~\\mathrm{{W/mK}}$ conductivity\n",
    "- $\\rho_c = 2400~\\mathrm{{kg/m^{3}}}$ density\n",
    "- $c_{p,c} = 1000 ~\\mathrm{{J/kgK}}$ specific heat\n",
    "\n",
    "**Window**\n",
    "\n",
    "- $U_w=1.1~\\mathrm{W/m^2K}$ (value according to SIA: 1.3 maximal)\n",
    "\n",
    "**Convection coefficients:**\n",
    "\n",
    "- $h_i=8~\\mathrm{W/m^2K}$ indoor \n",
    "- $h_o=25~\\mathrm{W/m^2K}$ outdoor \n",
    "\n",
    "\n",
    "**Temperatures and humidity**\n",
    "\n",
    "- $\\theta_i = 25~\\mathrm{°C},~\\varphi_i=60~\\%$, desired idoor conditions for plants\n",
    "- $\\theta_o = 35~\\mathrm{°C},~\\varphi_i=80~\\%$, outdoorconditions for dübendorf in summer design day ([climate.onebuilding.org](https://climate.onebuilding.org/WMO_Region_6_Europe/CHE_Switzerland/index.html#IDZH_Zurich-))\n",
    "\n",
    "**Occupants**\n",
    "\n",
    "- $n_p=5$, number of employees working in greenhouse\n",
    "- $q_{s,p}=85~\\mathrm{W}$, sensible heat per person, light to sustained activity @ 25°C ([energieplus-lesite.be](https://energieplus-lesite.be/theories/bilan-thermique44/charges-thermiques-internes-pour-les-commerces/))\n",
    "- $q_{l,p}=100~\\mathrm{W}$, latent heat per person, light to sustained activity @ 25°C ([energieplus-lesite.be](https://energieplus-lesite.be/theories/bilan-thermique44/charges-thermiques-internes-pour-les-commerces/))\n",
    "- $\\dot{m}_{v,p}=145~\\mathrm{g/h}$, vapor mass flow per person, light to sustained activity @ 25°C ([energieplus-lesite.be](https://energieplus-lesite.be/theories/bilan-thermique44/charges-thermiques-internes-pour-les-commerces/))\n",
    "\n",
    "\n",
    "**Lighting and electrical equipments**\n",
    "\n",
    "- $p_{e}=20~\\mathrm{W/m^2}$\n",
    "\n",
    "\n",
    "**Air leackage for the whole greenhouse**\n",
    "\n",
    "- $n_{50}=1.62$ air changes per hour at 50 Pa\n",
    "- $ACH=n_{50}/n=1.62/23=0.07$ air changes per hour at 4 Pa [->](https://unmethours.com/question/26477/how-to-set-air-infiltration-under-50-pa-pressure/)\n",
    "\n",
    "**Supply air temperature**\n",
    "\n",
    "- $t_S = t_I+15~\\mathrm{°C}$ for heating\n",
    "- $t_S = t_I-10~\\mathrm{°C}$ for cooling\n",
    "\n",
    "\n",
    "\n"
   ]
  },
  {
   "cell_type": "code",
   "execution_count": null,
   "id": "1d60a536-9c94-40a3-8b79-77f7715f921c",
   "metadata": {},
   "outputs": [],
   "source": []
  }
 ],
 "metadata": {
  "kernelspec": {
   "display_name": "Python 3",
   "language": "python",
   "name": "python3"
  },
  "language_info": {
   "codemirror_mode": {
    "name": "ipython",
    "version": 3
   },
   "file_extension": ".py",
   "mimetype": "text/x-python",
   "name": "python",
   "nbconvert_exporter": "python",
   "pygments_lexer": "ipython3",
   "version": "3.8.8"
  }
 },
 "nbformat": 4,
 "nbformat_minor": 5
}

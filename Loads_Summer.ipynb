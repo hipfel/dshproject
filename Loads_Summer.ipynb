{
 "cells": [
  {
   "cell_type": "markdown",
   "id": "65b62b04-58dd-4614-a40b-9ddc89cb9dee",
   "metadata": {
    "tags": []
   },
   "source": [
    "# Overview\n",
    "This Project focuses on the air conditioning of a greenhouse during a hot, sunny summer day. \n",
    "\n",
    "Nowadays professional greenhouses are highly developed technical facilities. As plants need sunlight to grow, the concept of installing a glass shell is the only building part that persisted. In a mild climate like switzerland, greenhouses need to be heated for most of the year. Therefore, for saving heat energy, double glazing has become state of the art in greenhouse construction. However, the better insulated glass increases problems of high humidity inside the greenhouse.\n",
    "\n",
    "Generally plants grow optimally with a relative air humidity of 60-70 %\n",
    "With better heat insulation trough double glazing, water vapor in the air can't condensate enough on the windows.\n",
    "\n",
    "\n",
    "# Calculating thermal loads for summer\n",
    "\n",
    "## Characterization of the building\n",
    "\n",
    "The loads are as follows:\n",
    "\n",
    "- sensible: $Q_s = UA(\\theta_0 - \\theta_i) + {\\dot{m}}_{inf}c(\\theta_0 - \\theta_i) + \\dot{Q}_{s,aux}$\n",
    "- latent: $Q_l = {\\dot{m}}_{inf}l(w_0 - w_i) + \\dot{Q}_{l,aux}$\n",
    "\n",
    "$\\rightarrow$ The global conductivity through thermal bridges ($\\psi l$) are neglected as the greenhouse is not insulated.\n",
    "\n",
    "The information needed for modeling is:\n",
    "- $UA$ global conductivity through the walls [W/K]\n",
    "- ${\\dot{m}}_{inf}$ mass flow of infiltration air [kg/s]\n",
    "- $\\dot{Q}_{s,aux}$ sensible auxiliar heat gains (from sun, occupants, electrical devices, etc.) [W]\n",
    "- $\\dot{Q}_{l,aux}$ latent auxiliar heat gains (from occupants, evaporative processes from plants, etc.) [W]\n",
    "\n",
    "## House description\n",
    "The investigated house is a professional greenhouse in Wangen near the city of Dübendorf. All walls and the ceiling consist of windows that are enclosed in a metal frame. For simplicity, the whole outer building shell is assumed to be glass. During cold periods it is beneficial to lose as less heat as possible, therefore modern professional greenhouses are mostly equipped with double glazig. In this investigation, double glazing is used. The ceiling panes are facing to the east resp. west. On the inside there is a concrete floor on which plant tables with the grown plants are located. As the heat transfer tot he ground is negligible in contrast to the transfer trough all glass surfaces, it is assumed to be an ideal thermal isolator. The first picture shows the front view. As it can be seen, there are two main doors for entering the greenhouse.\n",
    "\n",
    "*Front view of greenhouse*\n",
    "<div>\n",
    "    <img src=\"./Figures/Greenhouse_Front.png\" width = 800>\n",
    "</div>\n",
    "\n",
    "    \n",
    "The following pictures show the side and top view of the greenhouse. Openable windows are installed on the roof (bold rectangles). On a hot, sunny summerday the temperature in the greenhouse would rise to levels which are hindering plant growth or even damaging the plants. Therefore they typically stay open during such times to reduce temperature while simultaineously reducing the cooling load of the HVAC system. For the investigation all marked windows are assumed to be completely open.\n",
    "\n",
    "*Side view of greenhouse*\n",
    "<div>\n",
    "    <img src=\"./Figures/Greenhouse_Side.png\" width = 990>\n",
    "</div>\n",
    "\n",
    "*Top view of greenhouse*\n",
    "<div>\n",
    "    <img src=\"./Figures/Greenhouse_Top.png\" width = 1000>\n",
    "</div>\n",
    "    \n",
    "*All assumptions summarized*\n",
    "\n",
    "- Metal frames of the windows are neglected. The building outer shell is assumed to be 100% glass\n",
    "- Double glazing\n",
    "- Concrete floor is assumed to be a perfect thermal isolator\n",
    "- All marked windows are completely open\n"
   ]
  },
  {
   "cell_type": "markdown",
   "id": "78c28583-4a19-40e4-bb71-752a8573efdb",
   "metadata": {
    "tags": []
   },
   "source": [
    "## Data\n",
    "<!-- **Characteristics of the building components**\n",
    "\n",
    "*Glass facade and ceiling*\n",
    "- $s_g = 0.01 ~\\mathrm{{m}}$ width\n",
    "- $\\lambda_g = 0.8 ~\\mathrm{{W/mK}}$ conductivity\n",
    "- $\\rho_g = 2500~\\mathrm{{kg/m^{3}}}$ density\n",
    "- $c_{p,g} = 720 ~\\mathrm{{J/kgK}}$ specific heat\n",
    "\n",
    "*Concrete floor*\n",
    "- $s_c = 0.2 ~\\mathrm{{m}}$  width\n",
    "- $\\lambda_c = 2.1 ~\\mathrm{{W/mK}}$ conductivity\n",
    "- $\\rho_c = 2400~\\mathrm{{kg/m^{3}}}$ density\n",
    "- $c_{p,c} = 1000 ~\\mathrm{{J/kgK}}$ specific heat -->\n",
    "\n",
    "**Geographical Data**\n",
    "- $z= 448.1 ~\\mathrm{m}$ altitude ([climate.onebuilding.org](https://climate.onebuilding.org/WMO_Region_6_Europe/CHE_Switzerland/index.html))\n",
    "\n",
    "**Glass**\n",
    "\n",
    "- $U_g=1.3~\\mathrm{W/m^2K}$ (Limit value according to [norm 380/1 of swiss society of engineers and architects SIA](http://www.webnorm.ch/null/null/380-1_2009_d/D/Product))\n",
    "\n",
    "**Convection coefficients**\n",
    "\n",
    "<!-- - $h_i=8~\\mathrm{W/m^2K}$ indoor \n",
    "- $h_o=25~\\mathrm{W/m^2K}$ outdoor  -->\n",
    "As the U-Value of glass is known and the floor is assumed to be a perfect thermal isolator, no convection coefficients are needed or calculation.\n",
    "\n",
    "**Occupants**\n",
    "\n",
    "- $n_p=5$ number of employees working in the greenhouse\n",
    "- $q_{s,p}=85~\\mathrm{W}$ sensible heat per person, light to sustained activity @ 25°C ([energieplus-lesite.be](https://energieplus-lesite.be/theories/bilan-thermique44/charges-thermiques-internes-pour-les-commerces/))\n",
    "- $q_{l,p}=100~\\mathrm{W}$ latent heat per person, light to sustained activity @ 25°C ([energieplus-lesite.be](https://energieplus-lesite.be/theories/bilan-thermique44/charges-thermiques-internes-pour-les-commerces/))\n",
    "- $\\dot{m}_{v,p}=145~\\mathrm{g/h}$ vapor mass flow per person, light to sustained activity @ 25°C ([energieplus-lesite.be](https://energieplus-lesite.be/theories/bilan-thermique44/charges-thermiques-internes-pour-les-commerces/))\n",
    "\n",
    "\n",
    "**Heat gains**\n",
    "\n",
    "- $p_{e}=10~\\mathrm{W/m^2}$ gains by electrical devices in greenhouse (fans, control systems)\n",
    "- $p_{sol}=150~\\mathrm{W/m^2}$ solar gains (per glass area) ([BSRIA rules of thumb](https://www.bsria.com/uk/product/Nn55Nn/rules_of_thumb_4th_edition_superseded_bg_142003_a15d25e1/))\n",
    "\n",
    "\n",
    "**Air leackage for the whole greenhouse**\n",
    "\n",
    "- $ACH=30$ air changes per hour for temperature and carbon dioxide control ([Departement of Primary Industries, Australia](https://www.dpi.nsw.gov.au/agriculture/horticulture/greenhouse/structures-and-technology/ventilation))\n",
    "\n",
    "\n",
    "<!-- \n",
    "**Supply air temperature** (??????????????????????????)\n",
    "\n",
    "- $t_S = t_I+15~\\mathrm{°C}$ for heating\n",
    "- $t_S = t_I-10~\\mathrm{°C}$ for cooling\n",
    "\n",
    "\n",
    "**Temperatures and humidity**\n",
    "\n",
    "- $\\theta_i = 25~\\mathrm{°C},~\\varphi_i=60~\\%$, desired idoor conditions for plants\n",
    "- $\\theta_o = 35~\\mathrm{°C},~\\varphi_i=80~\\%$, outdoor conditions for dübendorf in summer design day ([climate.onebuilding.org](https://climate.onebuilding.org/WMO_Region_6_Europe/CHE_Switzerland/index.html#IDZH_Zurich-)) -->\n"
   ]
  },
  {
   "cell_type": "markdown",
   "id": "4d6b1003-6518-4a4a-99bc-34875fd51f7d",
   "metadata": {},
   "source": [
    "## Define Outdoor and Indoor conditions\n",
    "A hot, sunny summer day can have varying outdoor temperature and humidity, furthermore the desired indoor conditions depend on the plants that are grown.\n",
    "In the following widget those parameters can be changed, limited by the boundary conditions of the analyzed case (hot, sunny summer day).\n",
    "\n",
    "Some conditions for vegetables:\n",
    "- Lettuce:  $\\phi_i$ = 60-80 %\n",
    "- Tomato: $\\theta_i$ = 20-22 °C, $\\phi_i$ = 50-80 %\n",
    "- Cucmber: $\\theta_i$ = 18-20 °C, $\\phi_i$ = 75 % (April-August)\n",
    "- Bell pepper: $\\theta_i$ = 22-28 °C, $\\phi_i$ = 70 %\n"
   ]
  },
  {
   "cell_type": "code",
   "execution_count": 1,
   "id": "00cb3380-524f-44db-acb7-9a03424e5ff8",
   "metadata": {},
   "outputs": [
    {
     "data": {
      "application/vnd.jupyter.widget-view+json": {
       "model_id": "310b098e28564c0bae26485efffb0fa3",
       "version_major": 2,
       "version_minor": 0
      },
      "text/plain": [
       "interactive(children=(FloatSlider(value=30.0, description='θ0', max=40.0, min=26.0, step=0.5), FloatSlider(val…"
      ]
     },
     "metadata": {},
     "output_type": "display_data"
    }
   ],
   "source": [
    "import ipywidgets as wd\n",
    "import numpy as np\n",
    "import psychro as psy\n",
    "from sumloadcalc import summerloadcalc\n",
    "\n",
    "wid = wd.interactive(summerloadcalc, θ0=(26,40,0.5), φ0=(0.7,1,0.01), θi=(20,25,0.5), φi=(0.4,0.7,0.01)); # interactive-widget for additional accessing of input values and output variables\n",
    "display(wid)                    # display widget"
   ]
  },
  {
   "cell_type": "code",
   "execution_count": 2,
   "id": "f30182c8-36ec-4b4e-a0d9-49852a499e1e",
   "metadata": {},
   "outputs": [
    {
     "name": "stdout",
     "output_type": "stream",
     "text": [
      "Saved input parameters: {'θ0': 30.0, 'φ0': 0.8, 'θi': 23.0, 'φi': 0.6}\n"
     ]
    }
   ],
   "source": [
    "sumloadinp = wid.kwargs         # save input arguments of widget in variable\n",
    "print('Saved input parameters:', sumloadinp)"
   ]
  },
  {
   "cell_type": "markdown",
   "id": "8c120516-04f4-418b-9a93-a597a0a2c746",
   "metadata": {
    "tags": []
   },
   "source": [
    "##  Calculation\n",
    "\n",
    "In the following list the calculation is summarized:\n",
    "\n",
    "**1. Sensible heat transfer through the envelope**\n",
    "\n",
    "*1.1. Global conductivities of the surface elements*\n",
    "\n",
    "- $U_w~\\mathrm{[W/m^2K}]$ walls\n",
    "- $U_c~\\mathrm{[W/m^2K}]$ ceiling\n",
    "- $U_f~\\mathrm{[W/m^2K}]$ floor\n",
    "\n",
    "*1.2 Surfaces to be used for heat transfer through the building envelope*\n",
    "\n",
    "- $S_{w}~\\mathrm{[m^2]}$ walls\n",
    "- $S_{c}~\\mathrm{[m^2]}$ ceiling\n",
    "- $S_{f}~\\mathrm{[m^2]}$ floor\n",
    "\n",
    "**2. Infiltration air**\n",
    "- $\\dot{m}_{inf}~\\mathrm{[kg/s]}$ mass flow rate of inflitration air\n",
    "\n",
    "**3. Sensible and latent auxiliary loads of the thermal zone**\n",
    "- ${\\dot{Q}_{s, aux}}~\\mathrm{[W]}$ sensible load of the thermal zone\n",
    "- ${\\dot{Q}_{l, aux}}~\\mathrm{[W]}$ latent load of the thermal zone\n"
   ]
  },
  {
   "cell_type": "markdown",
   "id": "3295be2e-e744-4836-ab79-e0bdfc1839e1",
   "metadata": {},
   "source": [
    "### Global conductivities of surface elements\n",
    "\n",
    "The heat transfer coefficient for the glass walls and ceiling is already given by $U_g=1.3~\\mathrm{W/m^2K}$.\\\n",
    "The concrete floor is assumed to be a perfect thermal isolator, which yields $U_f=0~\\mathrm{W/m^2K}$\n",
    "\n",
    "These arguments yield:\n",
    "- $U_w=1.3~\\mathrm{W/m^2K}$ walls\n",
    "- $U_c=1.3~\\mathrm{W/m^2K}$ ceiling\n",
    "- $U_f=0.0~\\mathrm{W/m^2K}$ floor\n"
   ]
  },
  {
   "cell_type": "code",
   "execution_count": 3,
   "id": "bd9c365a-7247-4c53-b791-06592f96e341",
   "metadata": {},
   "outputs": [
    {
     "name": "stdout",
     "output_type": "stream",
     "text": [
      "Uw =   2.98 W/m2 K, glass walls\n",
      "Uc =   2.98 W/m2 K, glass ceiling\n",
      "Uf =   0.00 W/m2 K, concrete floor\n"
     ]
    }
   ],
   "source": [
    "import numpy as np\n",
    "\n",
    "Uw = 2.98 #(W/m2K)\n",
    "Uc = 2.98 #(W/m2K)\n",
    "Uf = 0.0 #(W/m2K)\n",
    "\n",
    "# Print results\n",
    "print('Uw =  % 5.2f W/m2 K, glass walls' % Uw)\n",
    "print('Uc =  % 5.2f W/m2 K, glass ceiling' % Uc)\n",
    "print('Uf =  % 5.2f W/m2 K, concrete floor' % Uf)"
   ]
  },
  {
   "cell_type": "markdown",
   "id": "1709c26d-a492-4ec0-ae54-d32f45404296",
   "metadata": {},
   "source": [
    "### Surfaces\n",
    "Calculating the surfaces of: \n",
    "- $S_{w}~\\mathrm{[m^2]}$ walls\n",
    "- $S_{c}~\\mathrm{[m^2]}$ ceiling\n",
    "- $S_{f}~\\mathrm{[m^2]}$ floor\n",
    "\n",
    "to be used for heat transfer through the building envelope."
   ]
  },
  {
   "cell_type": "code",
   "execution_count": 4,
   "id": "9f9552a8-e8cf-4485-bb01-fda5a8eebc68",
   "metadata": {},
   "outputs": [
    {
     "name": "stdout",
     "output_type": "stream",
     "text": [
      "Sw =    375 m2, glass walls\n",
      "Sc =    646 m2, glass ceiling\n",
      "Sf =    600 m2, concrete floor\n"
     ]
    }
   ],
   "source": [
    "# Glass walls\n",
    "Sw = 3*40*2 + (3*7.5 + 3*15)*2   # two side walls + two front walls (m2)\n",
    "\n",
    "# Ceiling\n",
    "Sc = 8.08*40*2                   # two ceiling sides (m2)\n",
    "\n",
    "# Floor\n",
    "Sf = 40*15                       # floor area (m2)\n",
    "\n",
    "# Print results\n",
    "print('Sw =  % 5.0f m2, glass walls' % Sw)\n",
    "print('Sc =  % 5.0f m2, glass ceiling' % Sc)\n",
    "print('Sf =  % 5.0f m2, concrete floor' % Sf)"
   ]
  },
  {
   "cell_type": "markdown",
   "id": "91bb5037-8ca9-4428-b214-1250d78cf567",
   "metadata": {},
   "source": [
    "### Building Characteristics"
   ]
  },
  {
   "cell_type": "code",
   "execution_count": 5,
   "id": "b0042b24-dccb-425c-9274-15bdf40e5361",
   "metadata": {},
   "outputs": [
    {
     "name": "stdout",
     "output_type": "stream",
     "text": [
      "UA =  3043.8 W/K, overall heat transfer coefficient\n"
     ]
    }
   ],
   "source": [
    "# Overall heat transfer coeffcient\n",
    "UA = (Uw*Sw + Uc*Sc + Uf*Sf)   # (W/K)\n",
    "print(f'UA =  {UA:5.1f} W/K, overall heat transfer coefficient')"
   ]
  },
  {
   "cell_type": "code",
   "execution_count": 6,
   "id": "62797916-7995-4f3c-8b86-2f63256a0d5f",
   "metadata": {},
   "outputs": [
    {
     "name": "stdout",
     "output_type": "stream",
     "text": [
      "minf =    0.439 kg/s, air infiltration mass flow\n",
      "Qsaux =  102425.0 W, sensible auxiliary heat\n",
      "Qlaux = 502.5 W, latent auxiliary heat\n"
     ]
    }
   ],
   "source": [
    "# Infiltration mass flow rate\n",
    "Vz = Sf*3 + 3*7.5*40        # zone volume consisting of volume enclosed in lower \"glass cube\" and upper \"roof prism\" (m3)\n",
    "ACH = 0.5                    # infiltration rate according to Departement of Primary Industries, Australia (air changes per hour)\n",
    "vo = 0.855                  # specific volume of dry air @25 °C and 1 bar according to VDI heat atlas [1] (m3/kg)\n",
    "minf = (ACH*Vz)/(vo*3600)   # outdoor dry air mass flow rate (kg/s)\n",
    "print(f'minf =  {minf:7.3f} kg/s, air infiltration mass flow')\n",
    "\n",
    "# Auxilairy sensible heat\n",
    "pe = 20                     # gains by electrical devices (W/m2)\n",
    "psol = 150                  # solar gains (W/m2)\n",
    "Ssol = Sf                   # assumed that sun is at zenith, we take the floor area as effective glass area for solar gains calculation\n",
    "np = 5                      # number of employees working in greenhouse\n",
    "qsp = 85                    # sensible heat per employee\n",
    "l_v = 2495.0e3              # specific latent heat of water vapor (J/kg)\n",
    "Qsaux = pe*Sf + psol*Ssol + np*qsp    # calculation of sensible auxiliary heat (W)\n",
    "print(f'Qsaux =  {Qsaux:5.1f} W, sensible auxiliary heat')\n",
    "\n",
    "# Auxiliary latent heat\n",
    "mvp = 145e-3/3600           # vapor mass flow per person (kg/s)\n",
    "Qlaux = np*mvp*l_v          # calculate latent auxiliary heat (W)\n",
    "print(f'Qlaux = {Qlaux:5.1f} W, latent auxiliary heat')\n"
   ]
  },
  {
   "cell_type": "markdown",
   "id": "fa5c4d2e-ac62-4e09-b2c3-9bbb153de6b4",
   "metadata": {
    "tags": []
   },
   "source": [
    "## Results Summer Load --> Hier noch pflanzenwasserverdunstung einrechnen\n",
    "\n",
    "According to the defined parameters for indoor and outdoor air, the calculated results are summarized here.\n",
    "- $Q_s = UA(\\theta_0 - \\theta_I) + {\\dot{m}}_{inf}c(\\theta_0 - \\theta_I) + \\dot{Q}_{s,aux}$ sensible heat load (W)\n",
    "- $Q_l = {\\dot{m}}_{inf}l(w_0 - w_I) + \\dot{Q}_{l,aux}$ latent heat load (W)\n",
    "- $UA$ overall conductivity through the walls and ceiling (W/K)\n",
    "- ${\\dot{m}}_{inf}$ mass flow of infiltration air (kg/s)\n",
    "- $\\dot{Q}_{s,aux}$ sensible auxiliar heat gains (from occupants, electrical devices, etc.) (W)\n",
    "- $\\dot{Q}_{l,aux}$ latent auxiliar heat gains (from occupants, evaporative processes like cooking, etc.) (W)"
   ]
  },
  {
   "cell_type": "code",
   "execution_count": 7,
   "id": "e97e7de5-2132-48d1-8450-5116d781882d",
   "metadata": {},
   "outputs": [
    {
     "name": "stdout",
     "output_type": "stream",
     "text": [
      "UA =  3043.8 W/K, overall heat transfer coefficient\n",
      "minf =   0.439 kg/s, air infiltration\n",
      "Qsaux =  102425.0 W, sensible auxiliary heat\n",
      "Qlaux = 502.5 W, latent auxiliary heat\n",
      "\n",
      "Qs =  126820.0 W, sensible heat load\n",
      "Ql = 115214.4 W, latent heat load\n"
     ]
    }
   ],
   "source": [
    "c = 1006 # heat capacity of air @ 20°C and 1 bar according to VDI heat atlas [1](J/kgK)\n",
    "z = 448.1                   # altitude (m)\n",
    "\n",
    "θ0 = sumloadinp['θ0']       # get θ0 from widget input\n",
    "φ0 = sumloadinp['φ0']       # get φ0 from widget input\n",
    "w0 = psy.w(θ0,φ0,z)         # calculate humidity ratio w0  (kg/kgda)\n",
    "\n",
    "θi = sumloadinp['θi']       # get θi from widget input\n",
    "φi = sumloadinp['φi']       # get φi from widget input\n",
    "wi = psy.w(θi,φi,z)         # calculate humidity ratio wi  (kg/kgda)\n",
    "\n",
    "# Sensible heat load\n",
    "Qs = UA*(θ0-θi) + minf*c*(θ0-θi) + Qsaux\n",
    "\n",
    "# Latent heat load\n",
    "Ql = minf*l_v*(w0-wi) + Qsaux\n",
    "\n",
    "# Print results\n",
    "print(f'UA =  {UA:5.1f} W/K, overall heat transfer coefficient')\n",
    "print(f'minf = {minf:7.3f} kg/s, air infiltration')\n",
    "print(f'Qsaux =  {Qsaux:5.1f} W, sensible auxiliary heat')\n",
    "print(f'Qlaux = {Qlaux:5.1f} W, latent auxiliary heat')\n",
    "print('')\n",
    "print(f'Qs =  {Qs:5.1f} W, sensible heat load')\n",
    "print(f'Ql = {Ql:5.1f} W, latent heat load')"
   ]
  },
  {
   "cell_type": "markdown",
   "id": "dd21109e-ab93-418b-872d-685b62e53be3",
   "metadata": {},
   "source": [
    "## Bibliography\n",
    "\n",
    "[1] Verein Deutscher Ingenieure, VDI Wärmeatlas, 11th ed. Berlin, Heidelberg: Springer, 2013."
   ]
  }
 ],
 "metadata": {
  "kernelspec": {
   "display_name": "Python 3 (ipykernel)",
   "language": "python",
   "name": "python3"
  },
  "language_info": {
   "codemirror_mode": {
    "name": "ipython",
    "version": 3
   },
   "file_extension": ".py",
   "mimetype": "text/x-python",
   "name": "python",
   "nbconvert_exporter": "python",
   "pygments_lexer": "ipython3",
   "version": "3.9.12"
  },
  "toc-autonumbering": true
 },
 "nbformat": 4,
 "nbformat_minor": 5
}

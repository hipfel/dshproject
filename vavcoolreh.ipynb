{
 "cells": [
  {
   "cell_type": "markdown",
   "metadata": {},
   "source": [
    "# Traditional Air Dehumidification vs. Apsorber Technonolgy\n",
    "\n",
    "<figure>\n",
    "    <img src=\"Figures/legend.png\" alt=\"Legend\" style=\"background: white; width: 800px\"/>\n",
    "    <figcaption>Figure 1: Legend</figcaption>\n",
    "</figure>\n",
    "\n",
    "<figure>\n",
    "    <img src=\"Figures/ahu_model.png\" alt=\"AHU model\" style=\"background: white; width: 800px\"/>\n",
    "    <figcaption>Figure 2: Air Handling Unit (AHU) model</figcaption>\n",
    "</figure>\n",
    "\n",
    "<figure>\n",
    "    <img src=\"Figures/vav_cooling_reheating.png\" alt=\"VAV with reheating\" style=\"background: white; width: 800px\"/>\n",
    "    <figcaption>Figure 3: VAV system controling: indoor temperature, $\\theta_5$, by acting on the cooling coil [CC], $\\dot{Q}_{tCC}$,  indoor humidity, by acting on the heating coil [HC], $\\dot{Q}_{s,HC $, and supply air temperature, $\\theta_4$, by acting on the supply air mass flow rate, $\\dot{m}$.</figcaption>\n",
    "</figure>"
   ]
  },
  {
   "cell_type": "markdown",
   "metadata": {},
   "source": []
  }
 ],
 "metadata": {
  "interpreter": {
   "hash": "735909de60452c02cfff58b5dc0bc87513984793c614ec5ce7c363579620d643"
  },
  "kernelspec": {
   "display_name": "Python 3.9.12 ('eva_dsh')",
   "language": "python",
   "name": "python3"
  },
  "language_info": {
   "name": "python",
   "version": "3.9.12"
  },
  "orig_nbformat": 4
 },
 "nbformat": 4,
 "nbformat_minor": 2
}
